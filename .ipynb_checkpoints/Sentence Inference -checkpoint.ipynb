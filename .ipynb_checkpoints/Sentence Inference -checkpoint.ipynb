{
 "cells": [
  {
   "cell_type": "markdown",
   "metadata": {},
   "source": [
    "# Sentence-Inference"
   ]
  },
  {
   "cell_type": "markdown",
   "metadata": {},
   "source": [
    "### The problem is for every given pair of sentences ie. (sentence-1, sentence-2), determine if sentence-2 can be logically inferred given sentence-1."
   ]
  },
  {
   "cell_type": "markdown",
   "metadata": {},
   "source": [
    "## Importing libraries and data"
   ]
  },
  {
   "cell_type": "markdown",
   "metadata": {},
   "source": [
    "### Importing libraries"
   ]
  },
  {
   "cell_type": "code",
   "execution_count": 1,
   "metadata": {},
   "outputs": [
    {
     "name": "stderr",
     "output_type": "stream",
     "text": [
      "Using TensorFlow backend.\n"
     ]
    }
   ],
   "source": [
    "import pandas as pd\n",
    "import numpy as np\n",
    "import matplotlib.pyplot as plt\n",
    "%matplotlib inline\n",
    "import seaborn as sns\n",
    "\n",
    "from bs4 import BeautifulSoup\n",
    "import re\n",
    "from tqdm import tqdm \n",
    "from sklearn.preprocessing import LabelEncoder\n",
    "\n",
    "from sklearn.feature_extraction import text\n",
    "import warnings\n",
    "warnings.filterwarnings(\"ignore\")\n",
    "from keras.preprocessing import sequence\n",
    "\n",
    "from sklearn.feature_extraction.text import TfidfTransformer\n",
    "from sklearn.feature_extraction.text import TfidfVectorizer\n",
    "\n",
    "from sklearn.feature_extraction.text import CountVectorizer\n",
    "from sklearn import metrics\n",
    "from sklearn.metrics import roc_curve, auc\n",
    "from nltk.stem.porter import PorterStemmer\n",
    "\n",
    "from difflib import SequenceMatcher\n",
    "\n",
    "import re\n",
    "\n",
    "from nltk.corpus import stopwords\n",
    "from nltk import word_tokenize, ngrams\n",
    "eng_stopwords = set(stopwords.words('english'))\n",
    "\n",
    "from gensim.models import Word2Vec\n",
    "from gensim.models import KeyedVectors\n",
    "import pickle\n",
    "\n",
    "from sklearn.model_selection import KFold, cross_val_score, train_test_split\n",
    "from sklearn.metrics import confusion_matrix,classification_report\n",
    "from sklearn.metrics import accuracy_score\n",
    "\n",
    "from sklearn.cluster import KMeans\n",
    "from sklearn.neighbors import KNeighborsClassifier\n",
    "from sklearn.svm import SVC\n",
    "from sklearn.multioutput import MultiOutputClassifier\n",
    "from sklearn.ensemble import GradientBoostingClassifier\n",
    "from sklearn.tree import DecisionTreeClassifier\n",
    "from sklearn.naive_bayes import GaussianNB\n",
    "from sklearn.linear_model import LogisticRegression\n",
    "from sklearn.ensemble import RandomForestClassifier\n",
    "import xgboost as xgb\n",
    "\n",
    "import tensorflow as tf\n",
    "from tensorflow.keras.models import Sequential\n",
    "from tensorflow.keras.layers import Dense, Dropout\n",
    "from tensorflow.keras.wrappers.scikit_learn import KerasClassifier\n",
    "\n",
    "\n",
    "from keras.preprocessing.text import Tokenizer\n",
    "from keras.preprocessing.sequence import pad_sequences\n",
    "from keras.layers import Dense , Input , LSTM , Embedding, Dropout , Activation, GRU, Flatten\n",
    "from keras.layers import Bidirectional, GlobalMaxPool1D\n",
    "from keras.models import Model, Sequential\n",
    "from keras.layers import Convolution1D\n",
    "from keras import initializers, regularizers, constraints, optimizers, layers"
   ]
  },
  {
   "cell_type": "markdown",
   "metadata": {},
   "source": [
    "### Importing Dataset"
   ]
  },
  {
   "cell_type": "code",
   "execution_count": 2,
   "metadata": {},
   "outputs": [
    {
     "data": {
      "text/html": [
       "<div>\n",
       "<style scoped>\n",
       "    .dataframe tbody tr th:only-of-type {\n",
       "        vertical-align: middle;\n",
       "    }\n",
       "\n",
       "    .dataframe tbody tr th {\n",
       "        vertical-align: top;\n",
       "    }\n",
       "\n",
       "    .dataframe thead th {\n",
       "        text-align: right;\n",
       "    }\n",
       "</style>\n",
       "<table border=\"1\" class=\"dataframe\">\n",
       "  <thead>\n",
       "    <tr style=\"text-align: right;\">\n",
       "      <th></th>\n",
       "      <th>gold_label</th>\n",
       "      <th>sentence1</th>\n",
       "      <th>sentence2</th>\n",
       "    </tr>\n",
       "  </thead>\n",
       "  <tbody>\n",
       "    <tr>\n",
       "      <th>0</th>\n",
       "      <td>contradiction</td>\n",
       "      <td>A group of men with cowboy hats are watching a...</td>\n",
       "      <td>A group of women are watching a horse race</td>\n",
       "    </tr>\n",
       "    <tr>\n",
       "      <th>1</th>\n",
       "      <td>entailment</td>\n",
       "      <td>A kid with his head shaved sitting and holding...</td>\n",
       "      <td>Child sits with a cigarette.</td>\n",
       "    </tr>\n",
       "    <tr>\n",
       "      <th>2</th>\n",
       "      <td>neutral</td>\n",
       "      <td>A woman riding a bicycle past a car and a grou...</td>\n",
       "      <td>A woman riding a bicycle near a group of her f...</td>\n",
       "    </tr>\n",
       "    <tr>\n",
       "      <th>3</th>\n",
       "      <td>neutral</td>\n",
       "      <td>A woman looking through what appears to be a t...</td>\n",
       "      <td>An female astronamer looking toward the stars ...</td>\n",
       "    </tr>\n",
       "    <tr>\n",
       "      <th>4</th>\n",
       "      <td>entailment</td>\n",
       "      <td>A large group of people stand outside on a roa...</td>\n",
       "      <td>One group of people are watching what another ...</td>\n",
       "    </tr>\n",
       "    <tr>\n",
       "      <th>5</th>\n",
       "      <td>contradiction</td>\n",
       "      <td>A small dark-haired boy climbing in a large tree.</td>\n",
       "      <td>A small dark-haired boy is climbing over a car...</td>\n",
       "    </tr>\n",
       "    <tr>\n",
       "      <th>6</th>\n",
       "      <td>neutral</td>\n",
       "      <td>A man sits beside parked cars on a city street.</td>\n",
       "      <td>A man is sitting on a bench.</td>\n",
       "    </tr>\n",
       "    <tr>\n",
       "      <th>7</th>\n",
       "      <td>entailment</td>\n",
       "      <td>A dog looks content sitting on a bed after rip...</td>\n",
       "      <td>a dog sitting on a bed after ripping up paper.</td>\n",
       "    </tr>\n",
       "    <tr>\n",
       "      <th>8</th>\n",
       "      <td>contradiction</td>\n",
       "      <td>Young children and parents splashing around a ...</td>\n",
       "      <td>There are families eating lunch</td>\n",
       "    </tr>\n",
       "    <tr>\n",
       "      <th>9</th>\n",
       "      <td>entailment</td>\n",
       "      <td>A football coach guiding one of his players on...</td>\n",
       "      <td>The coach knows how to play football.</td>\n",
       "    </tr>\n",
       "  </tbody>\n",
       "</table>\n",
       "</div>"
      ],
      "text/plain": [
       "      gold_label                                          sentence1  \\\n",
       "0  contradiction  A group of men with cowboy hats are watching a...   \n",
       "1     entailment  A kid with his head shaved sitting and holding...   \n",
       "2        neutral  A woman riding a bicycle past a car and a grou...   \n",
       "3        neutral  A woman looking through what appears to be a t...   \n",
       "4     entailment  A large group of people stand outside on a roa...   \n",
       "5  contradiction  A small dark-haired boy climbing in a large tree.   \n",
       "6        neutral    A man sits beside parked cars on a city street.   \n",
       "7     entailment  A dog looks content sitting on a bed after rip...   \n",
       "8  contradiction  Young children and parents splashing around a ...   \n",
       "9     entailment  A football coach guiding one of his players on...   \n",
       "\n",
       "                                           sentence2  \n",
       "0         A group of women are watching a horse race  \n",
       "1                       Child sits with a cigarette.  \n",
       "2  A woman riding a bicycle near a group of her f...  \n",
       "3  An female astronamer looking toward the stars ...  \n",
       "4  One group of people are watching what another ...  \n",
       "5  A small dark-haired boy is climbing over a car...  \n",
       "6                       A man is sitting on a bench.  \n",
       "7     a dog sitting on a bed after ripping up paper.  \n",
       "8                    There are families eating lunch  \n",
       "9              The coach knows how to play football.  "
      ]
     },
     "execution_count": 2,
     "metadata": {},
     "output_type": "execute_result"
    }
   ],
   "source": [
    "# reading training file with the data\n",
    "df_train = pd.read_csv(\"data_set/train.csv\")\n",
    "df_train.head(10)"
   ]
  },
  {
   "cell_type": "code",
   "execution_count": 3,
   "metadata": {},
   "outputs": [
    {
     "data": {
      "text/html": [
       "<div>\n",
       "<style scoped>\n",
       "    .dataframe tbody tr th:only-of-type {\n",
       "        vertical-align: middle;\n",
       "    }\n",
       "\n",
       "    .dataframe tbody tr th {\n",
       "        vertical-align: top;\n",
       "    }\n",
       "\n",
       "    .dataframe thead th {\n",
       "        text-align: right;\n",
       "    }\n",
       "</style>\n",
       "<table border=\"1\" class=\"dataframe\">\n",
       "  <thead>\n",
       "    <tr style=\"text-align: right;\">\n",
       "      <th></th>\n",
       "      <th>sentence1</th>\n",
       "      <th>sentence2</th>\n",
       "    </tr>\n",
       "  </thead>\n",
       "  <tbody>\n",
       "    <tr>\n",
       "      <th>0</th>\n",
       "      <td>Number 13 kicks a soccer ball towards the goal...</td>\n",
       "      <td>A player fighting in a soccer game.</td>\n",
       "    </tr>\n",
       "    <tr>\n",
       "      <th>1</th>\n",
       "      <td>A woman walks next to a subway exit.</td>\n",
       "      <td>A woman is on here way home.</td>\n",
       "    </tr>\n",
       "    <tr>\n",
       "      <th>2</th>\n",
       "      <td>A man walks down the alley talking on his cell...</td>\n",
       "      <td>A man is walking down a wooded path and talkin...</td>\n",
       "    </tr>\n",
       "    <tr>\n",
       "      <th>3</th>\n",
       "      <td>Indian women playing musical chairs with white...</td>\n",
       "      <td>indain woman playing cricket with white woman</td>\n",
       "    </tr>\n",
       "    <tr>\n",
       "      <th>4</th>\n",
       "      <td>An older perhaps Asian man who is wearing a sl...</td>\n",
       "      <td>A tall human wearing</td>\n",
       "    </tr>\n",
       "  </tbody>\n",
       "</table>\n",
       "</div>"
      ],
      "text/plain": [
       "                                           sentence1  \\\n",
       "0  Number 13 kicks a soccer ball towards the goal...   \n",
       "1               A woman walks next to a subway exit.   \n",
       "2  A man walks down the alley talking on his cell...   \n",
       "3  Indian women playing musical chairs with white...   \n",
       "4  An older perhaps Asian man who is wearing a sl...   \n",
       "\n",
       "                                           sentence2  \n",
       "0                A player fighting in a soccer game.  \n",
       "1                       A woman is on here way home.  \n",
       "2  A man is walking down a wooded path and talkin...  \n",
       "3      indain woman playing cricket with white woman  \n",
       "4                               A tall human wearing  "
      ]
     },
     "execution_count": 3,
     "metadata": {},
     "output_type": "execute_result"
    }
   ],
   "source": [
    "df_test = pd.read_csv(\"data_set/test.csv\")\n",
    "df_test.head()"
   ]
  },
  {
   "cell_type": "code",
   "execution_count": 4,
   "metadata": {},
   "outputs": [
    {
     "name": "stdout",
     "output_type": "stream",
     "text": [
      "<class 'pandas.core.frame.DataFrame'>\n",
      "RangeIndex: 9349 entries, 0 to 9348\n",
      "Data columns (total 3 columns):\n",
      "gold_label    9349 non-null object\n",
      "sentence1     9349 non-null object\n",
      "sentence2     9349 non-null object\n",
      "dtypes: object(3)\n",
      "memory usage: 219.2+ KB\n"
     ]
    }
   ],
   "source": [
    "df_train.info()"
   ]
  },
  {
   "cell_type": "code",
   "execution_count": 5,
   "metadata": {},
   "outputs": [
    {
     "data": {
      "text/plain": [
       "(9349, 3)"
      ]
     },
     "execution_count": 5,
     "metadata": {},
     "output_type": "execute_result"
    }
   ],
   "source": [
    "df_train.shape"
   ]
  },
  {
   "cell_type": "code",
   "execution_count": 6,
   "metadata": {},
   "outputs": [
    {
     "data": {
      "text/plain": [
       "gold_label    False\n",
       "sentence1     False\n",
       "sentence2     False\n",
       "dtype: bool"
      ]
     },
     "execution_count": 6,
     "metadata": {},
     "output_type": "execute_result"
    }
   ],
   "source": [
    "# checking if there any missing value in the dataset\n",
    "df_train.isna().any()"
   ]
  },
  {
   "cell_type": "code",
   "execution_count": 7,
   "metadata": {},
   "outputs": [
    {
     "data": {
      "text/plain": [
       "entailment       3166\n",
       "contradiction    3114\n",
       "neutral          3069\n",
       "Name: gold_label, dtype: int64"
      ]
     },
     "execution_count": 7,
     "metadata": {},
     "output_type": "execute_result"
    }
   ],
   "source": [
    "# checking the total number of classes for the target variable\n",
    "df_train.gold_label.value_counts()"
   ]
  },
  {
   "cell_type": "markdown",
   "metadata": {},
   "source": [
    "### NOTE: the data seems to be balanced with no missing values. <br> Now, I can proceed with data cleaning. "
   ]
  },
  {
   "cell_type": "markdown",
   "metadata": {},
   "source": [
    "## Cleaning Data "
   ]
  },
  {
   "cell_type": "code",
   "execution_count": 8,
   "metadata": {},
   "outputs": [],
   "source": [
    "# I have used a custom list of stop words which do not have exceptional strings like 'no', 'nor', 'not'\n",
    "stopwords= set(['br', 'the', 'i', 'me', 'my', 'myself', 'we', 'our', 'ours', 'ourselves', 'you', \"you're\", \"you've\",\\\n",
    "            \"you'll\", \"you'd\", 'your', 'yours', 'yourself', 'yourselves', 'he', 'him', 'his', 'himself', \\\n",
    "            'she', \"she's\", 'her', 'hers', 'herself', 'it', \"it's\", 'its', 'itself', 'they', 'them', 'their',\\\n",
    "            'theirs', 'themselves', 'what', 'which', 'who', 'whom', 'this', 'that', \"that'll\", 'these', 'those', \\\n",
    "            'am', 'is', 'are', 'was', 'were', 'be', 'been', 'being', 'have', 'has', 'had', 'having', 'do', 'does', \\\n",
    "            'did', 'doing', 'a', 'an', 'the', 'and', 'but', 'if', 'or', 'because', 'as', 'until', 'while', 'of', \\\n",
    "            'at', 'by', 'for', 'with', 'about', 'against', 'between', 'into', 'through', 'during', 'before', 'after',\\\n",
    "            'above', 'below', 'to', 'from', 'up', 'down', 'in', 'out', 'on', 'off', 'over', 'under', 'again', 'further',\\\n",
    "            'then', 'once', 'here', 'there', 'when', 'where', 'why', 'how', 'all', 'any', 'both', 'each', 'few', 'more',\\\n",
    "            'most', 'other', 'some', 'such', 'only', 'own', 'same', 'so', 'than', 'too', 'very', \\\n",
    "            's', 't', 'can', 'will', 'just', 'don', \"don't\", 'should', \"should've\", 'now', 'd', 'll', 'm', 'o', 're', \\\n",
    "            've', 'y', 'ain', 'aren', \"aren't\", 'couldn', \"couldn't\", 'didn', \"didn't\", 'doesn', \"doesn't\", 'hadn',\\\n",
    "            \"hadn't\", 'hasn', \"hasn't\", 'haven', \"haven't\", 'isn', \"isn't\", 'ma', 'mightn', \"mightn't\", 'mustn',\\\n",
    "            \"mustn't\", 'needn', \"needn't\", 'shan', \"shan't\", 'shouldn', \"shouldn't\", 'wasn', \"wasn't\", 'weren', \"weren't\", \\\n",
    "            'won', \"won't\", 'wouldn', \"wouldn't\"])"
   ]
  },
  {
   "cell_type": "code",
   "execution_count": 9,
   "metadata": {},
   "outputs": [],
   "source": [
    "def decontracted(phrase):\n",
    "    '''\n",
    "     Here is this function I will replace the words which has short hand representation of two words added together, \n",
    "     like won't is represtative of would not, etc. to the full hand representations of them.\n",
    "    '''\n",
    "    \n",
    "    phrase = re.sub(r\"won't\", \"will not\", phrase)\n",
    "    phrase = re.sub(r\"can\\'t\", \"can not\", phrase)\n",
    "    phrase = re.sub(r\"n\\'t\", \" not\", phrase)\n",
    "    phrase = re.sub(r\"\\'re\", \" are\", phrase)\n",
    "    phrase = re.sub(r\"\\'s\", \" is\", phrase)\n",
    "    phrase = re.sub(r\"\\'d\", \" would\", phrase)\n",
    "    phrase = re.sub(r\"\\'ll\", \" will\", phrase)\n",
    "    phrase = re.sub(r\"\\'t\", \" not\", phrase)\n",
    "    phrase = re.sub(r\"\\'ve\", \" have\", phrase)\n",
    "    phrase = re.sub(r\"\\'m\", \" am\", phrase)\n",
    "    return phrase"
   ]
  },
  {
   "cell_type": "code",
   "execution_count": 10,
   "metadata": {},
   "outputs": [],
   "source": [
    "def clean_text(sentance):\n",
    "    '''\n",
    "    Here is this function I will clean the data by following the steps:\n",
    "    * remove the hyperlinks like http://...\n",
    "    * Remove the HTML and XML tags using BeautifulSoup library.\n",
    "    * removing white spaces and numerical values.\n",
    "    * keeping only ascii characters.\n",
    "    * and finally removing all stopwords from the text and making all characters to lowercase.\n",
    "    '''\n",
    "    \n",
    "    sentance = re.sub(r\"http\\S+\", \"\", sentance)\n",
    "    sentance = BeautifulSoup(sentance, 'lxml').get_text()\n",
    "    sentance = decontracted(sentance)\n",
    "    sentance = re.sub(\"\\S*\\d\\S*\", \"\", sentance).strip()\n",
    "    sentance = re.sub('[^A-Za-z]+', ' ', sentance)\n",
    "    sentance = ' '.join(e.lower() for e in sentance.split() if e.lower() not in stopwords)\n",
    "    return sentance.strip()"
   ]
  },
  {
   "cell_type": "code",
   "execution_count": 11,
   "metadata": {},
   "outputs": [
    {
     "data": {
      "text/html": [
       "<div>\n",
       "<style scoped>\n",
       "    .dataframe tbody tr th:only-of-type {\n",
       "        vertical-align: middle;\n",
       "    }\n",
       "\n",
       "    .dataframe tbody tr th {\n",
       "        vertical-align: top;\n",
       "    }\n",
       "\n",
       "    .dataframe thead th {\n",
       "        text-align: right;\n",
       "    }\n",
       "</style>\n",
       "<table border=\"1\" class=\"dataframe\">\n",
       "  <thead>\n",
       "    <tr style=\"text-align: right;\">\n",
       "      <th></th>\n",
       "      <th>gold_label</th>\n",
       "      <th>sentence1</th>\n",
       "      <th>sentence2</th>\n",
       "    </tr>\n",
       "  </thead>\n",
       "  <tbody>\n",
       "    <tr>\n",
       "      <th>0</th>\n",
       "      <td>contradiction</td>\n",
       "      <td>A group of men with cowboy hats are watching a...</td>\n",
       "      <td>A group of women are watching a horse race</td>\n",
       "    </tr>\n",
       "    <tr>\n",
       "      <th>1</th>\n",
       "      <td>entailment</td>\n",
       "      <td>A kid with his head shaved sitting and holding...</td>\n",
       "      <td>Child sits with a cigarette.</td>\n",
       "    </tr>\n",
       "    <tr>\n",
       "      <th>2</th>\n",
       "      <td>neutral</td>\n",
       "      <td>A woman riding a bicycle past a car and a grou...</td>\n",
       "      <td>A woman riding a bicycle near a group of her f...</td>\n",
       "    </tr>\n",
       "    <tr>\n",
       "      <th>3</th>\n",
       "      <td>neutral</td>\n",
       "      <td>A woman looking through what appears to be a t...</td>\n",
       "      <td>An female astronamer looking toward the stars ...</td>\n",
       "    </tr>\n",
       "    <tr>\n",
       "      <th>4</th>\n",
       "      <td>entailment</td>\n",
       "      <td>A large group of people stand outside on a roa...</td>\n",
       "      <td>One group of people are watching what another ...</td>\n",
       "    </tr>\n",
       "    <tr>\n",
       "      <th>5</th>\n",
       "      <td>contradiction</td>\n",
       "      <td>A small dark-haired boy climbing in a large tree.</td>\n",
       "      <td>A small dark-haired boy is climbing over a car...</td>\n",
       "    </tr>\n",
       "    <tr>\n",
       "      <th>6</th>\n",
       "      <td>neutral</td>\n",
       "      <td>A man sits beside parked cars on a city street.</td>\n",
       "      <td>A man is sitting on a bench.</td>\n",
       "    </tr>\n",
       "    <tr>\n",
       "      <th>7</th>\n",
       "      <td>entailment</td>\n",
       "      <td>A dog looks content sitting on a bed after rip...</td>\n",
       "      <td>a dog sitting on a bed after ripping up paper.</td>\n",
       "    </tr>\n",
       "    <tr>\n",
       "      <th>8</th>\n",
       "      <td>contradiction</td>\n",
       "      <td>Young children and parents splashing around a ...</td>\n",
       "      <td>There are families eating lunch</td>\n",
       "    </tr>\n",
       "    <tr>\n",
       "      <th>9</th>\n",
       "      <td>entailment</td>\n",
       "      <td>A football coach guiding one of his players on...</td>\n",
       "      <td>The coach knows how to play football.</td>\n",
       "    </tr>\n",
       "  </tbody>\n",
       "</table>\n",
       "</div>"
      ],
      "text/plain": [
       "      gold_label                                          sentence1  \\\n",
       "0  contradiction  A group of men with cowboy hats are watching a...   \n",
       "1     entailment  A kid with his head shaved sitting and holding...   \n",
       "2        neutral  A woman riding a bicycle past a car and a grou...   \n",
       "3        neutral  A woman looking through what appears to be a t...   \n",
       "4     entailment  A large group of people stand outside on a roa...   \n",
       "5  contradiction  A small dark-haired boy climbing in a large tree.   \n",
       "6        neutral    A man sits beside parked cars on a city street.   \n",
       "7     entailment  A dog looks content sitting on a bed after rip...   \n",
       "8  contradiction  Young children and parents splashing around a ...   \n",
       "9     entailment  A football coach guiding one of his players on...   \n",
       "\n",
       "                                           sentence2  \n",
       "0         A group of women are watching a horse race  \n",
       "1                       Child sits with a cigarette.  \n",
       "2  A woman riding a bicycle near a group of her f...  \n",
       "3  An female astronamer looking toward the stars ...  \n",
       "4  One group of people are watching what another ...  \n",
       "5  A small dark-haired boy is climbing over a car...  \n",
       "6                       A man is sitting on a bench.  \n",
       "7     a dog sitting on a bed after ripping up paper.  \n",
       "8                    There are families eating lunch  \n",
       "9              The coach knows how to play football.  "
      ]
     },
     "execution_count": 11,
     "metadata": {},
     "output_type": "execute_result"
    }
   ],
   "source": [
    "# data before cleaning\n",
    "df_train.head(10)"
   ]
  },
  {
   "cell_type": "code",
   "execution_count": 12,
   "metadata": {},
   "outputs": [
    {
     "name": "stderr",
     "output_type": "stream",
     "text": [
      "100%|█████████████████████████████████████████████████████████████████████████████| 9349/9349 [00:11<00:00, 806.27it/s]\n"
     ]
    }
   ],
   "source": [
    "preprocessed_sentence1 = []\n",
    "preprocessed_sentence2 = []\n",
    "\n",
    "for i in tqdm(range(len(df_train)), position=0, leave=True):\n",
    "    df_train.sentence1[i] = clean_text(df_train.sentence1[i])\n",
    "    df_train.sentence2[i] = clean_text(df_train.sentence2[i])\n",
    "    preprocessed_sentence1.append(df_train.sentence1[i])\n",
    "    preprocessed_sentence2.append(df_train.sentence2[i])"
   ]
  },
  {
   "cell_type": "code",
   "execution_count": 13,
   "metadata": {},
   "outputs": [
    {
     "name": "stderr",
     "output_type": "stream",
     "text": [
      "100%|███████████████████████████████████████████████████████████████████████████████| 493/493 [00:00<00:00, 830.42it/s]\n"
     ]
    }
   ],
   "source": [
    "for i in tqdm(range(len(df_test)), position=0, leave=True):\n",
    "    df_test.sentence1[i] = clean_text(df_test.sentence1[i])\n",
    "    df_test.sentence2[i] = clean_text(df_test.sentence2[i])"
   ]
  },
  {
   "cell_type": "code",
   "execution_count": 14,
   "metadata": {},
   "outputs": [
    {
     "data": {
      "text/plain": [
       "['group men cowboy hats watching rodeo',\n",
       " 'kid head shaved sitting holding lit cigarette',\n",
       " 'woman riding bicycle past car group people sidewalk',\n",
       " 'woman looking appears telescope',\n",
       " 'large group people stand outside road people higher level look',\n",
       " 'small dark haired boy climbing large tree',\n",
       " 'man sits beside parked cars city street',\n",
       " 'dog looks content sitting bed ripping paper',\n",
       " 'young children parents splashing around public fountain',\n",
       " 'football coach guiding one players']"
      ]
     },
     "execution_count": 14,
     "metadata": {},
     "output_type": "execute_result"
    }
   ],
   "source": [
    "# this is how the clean processed data looks\n",
    "preprocessed_sentence1[:10]"
   ]
  },
  {
   "cell_type": "code",
   "execution_count": 15,
   "metadata": {},
   "outputs": [
    {
     "data": {
      "text/html": [
       "<div>\n",
       "<style scoped>\n",
       "    .dataframe tbody tr th:only-of-type {\n",
       "        vertical-align: middle;\n",
       "    }\n",
       "\n",
       "    .dataframe tbody tr th {\n",
       "        vertical-align: top;\n",
       "    }\n",
       "\n",
       "    .dataframe thead th {\n",
       "        text-align: right;\n",
       "    }\n",
       "</style>\n",
       "<table border=\"1\" class=\"dataframe\">\n",
       "  <thead>\n",
       "    <tr style=\"text-align: right;\">\n",
       "      <th></th>\n",
       "      <th>gold_label</th>\n",
       "      <th>sentence1</th>\n",
       "      <th>sentence2</th>\n",
       "    </tr>\n",
       "  </thead>\n",
       "  <tbody>\n",
       "    <tr>\n",
       "      <th>0</th>\n",
       "      <td>contradiction</td>\n",
       "      <td>group men cowboy hats watching rodeo</td>\n",
       "      <td>group women watching horse race</td>\n",
       "    </tr>\n",
       "    <tr>\n",
       "      <th>1</th>\n",
       "      <td>entailment</td>\n",
       "      <td>kid head shaved sitting holding lit cigarette</td>\n",
       "      <td>child sits cigarette</td>\n",
       "    </tr>\n",
       "    <tr>\n",
       "      <th>2</th>\n",
       "      <td>neutral</td>\n",
       "      <td>woman riding bicycle past car group people sid...</td>\n",
       "      <td>woman riding bicycle near group friends sidewalk</td>\n",
       "    </tr>\n",
       "    <tr>\n",
       "      <th>3</th>\n",
       "      <td>neutral</td>\n",
       "      <td>woman looking appears telescope</td>\n",
       "      <td>female astronamer looking toward stars telescope</td>\n",
       "    </tr>\n",
       "    <tr>\n",
       "      <th>4</th>\n",
       "      <td>entailment</td>\n",
       "      <td>large group people stand outside road people h...</td>\n",
       "      <td>one group people watching another group</td>\n",
       "    </tr>\n",
       "    <tr>\n",
       "      <th>5</th>\n",
       "      <td>contradiction</td>\n",
       "      <td>small dark haired boy climbing large tree</td>\n",
       "      <td>small dark haired boy climbing car seat</td>\n",
       "    </tr>\n",
       "    <tr>\n",
       "      <th>6</th>\n",
       "      <td>neutral</td>\n",
       "      <td>man sits beside parked cars city street</td>\n",
       "      <td>man sitting bench</td>\n",
       "    </tr>\n",
       "    <tr>\n",
       "      <th>7</th>\n",
       "      <td>entailment</td>\n",
       "      <td>dog looks content sitting bed ripping paper</td>\n",
       "      <td>dog sitting bed ripping paper</td>\n",
       "    </tr>\n",
       "    <tr>\n",
       "      <th>8</th>\n",
       "      <td>contradiction</td>\n",
       "      <td>young children parents splashing around public...</td>\n",
       "      <td>families eating lunch</td>\n",
       "    </tr>\n",
       "    <tr>\n",
       "      <th>9</th>\n",
       "      <td>entailment</td>\n",
       "      <td>football coach guiding one players</td>\n",
       "      <td>coach knows play football</td>\n",
       "    </tr>\n",
       "  </tbody>\n",
       "</table>\n",
       "</div>"
      ],
      "text/plain": [
       "      gold_label                                          sentence1  \\\n",
       "0  contradiction               group men cowboy hats watching rodeo   \n",
       "1     entailment      kid head shaved sitting holding lit cigarette   \n",
       "2        neutral  woman riding bicycle past car group people sid...   \n",
       "3        neutral                    woman looking appears telescope   \n",
       "4     entailment  large group people stand outside road people h...   \n",
       "5  contradiction          small dark haired boy climbing large tree   \n",
       "6        neutral            man sits beside parked cars city street   \n",
       "7     entailment        dog looks content sitting bed ripping paper   \n",
       "8  contradiction  young children parents splashing around public...   \n",
       "9     entailment                 football coach guiding one players   \n",
       "\n",
       "                                          sentence2  \n",
       "0                   group women watching horse race  \n",
       "1                              child sits cigarette  \n",
       "2  woman riding bicycle near group friends sidewalk  \n",
       "3  female astronamer looking toward stars telescope  \n",
       "4           one group people watching another group  \n",
       "5           small dark haired boy climbing car seat  \n",
       "6                                 man sitting bench  \n",
       "7                     dog sitting bed ripping paper  \n",
       "8                             families eating lunch  \n",
       "9                         coach knows play football  "
      ]
     },
     "execution_count": 15,
     "metadata": {},
     "output_type": "execute_result"
    }
   ],
   "source": [
    "# data after cleaning\n",
    "df_train.head(10)"
   ]
  },
  {
   "cell_type": "code",
   "execution_count": 16,
   "metadata": {},
   "outputs": [],
   "source": [
    "# converting the gold_label column into a categorical column\n",
    "df_train['gold_label'] = df_train['gold_label'].astype('category')"
   ]
  },
  {
   "cell_type": "code",
   "execution_count": 17,
   "metadata": {},
   "outputs": [
    {
     "data": {
      "text/html": [
       "<div>\n",
       "<style scoped>\n",
       "    .dataframe tbody tr th:only-of-type {\n",
       "        vertical-align: middle;\n",
       "    }\n",
       "\n",
       "    .dataframe tbody tr th {\n",
       "        vertical-align: top;\n",
       "    }\n",
       "\n",
       "    .dataframe thead th {\n",
       "        text-align: right;\n",
       "    }\n",
       "</style>\n",
       "<table border=\"1\" class=\"dataframe\">\n",
       "  <thead>\n",
       "    <tr style=\"text-align: right;\">\n",
       "      <th></th>\n",
       "      <th>gold_label</th>\n",
       "      <th>sentence1</th>\n",
       "      <th>sentence2</th>\n",
       "      <th>gold_label_encoded</th>\n",
       "    </tr>\n",
       "  </thead>\n",
       "  <tbody>\n",
       "    <tr>\n",
       "      <th>0</th>\n",
       "      <td>contradiction</td>\n",
       "      <td>group men cowboy hats watching rodeo</td>\n",
       "      <td>group women watching horse race</td>\n",
       "      <td>0</td>\n",
       "    </tr>\n",
       "    <tr>\n",
       "      <th>1</th>\n",
       "      <td>entailment</td>\n",
       "      <td>kid head shaved sitting holding lit cigarette</td>\n",
       "      <td>child sits cigarette</td>\n",
       "      <td>1</td>\n",
       "    </tr>\n",
       "    <tr>\n",
       "      <th>2</th>\n",
       "      <td>neutral</td>\n",
       "      <td>woman riding bicycle past car group people sid...</td>\n",
       "      <td>woman riding bicycle near group friends sidewalk</td>\n",
       "      <td>2</td>\n",
       "    </tr>\n",
       "    <tr>\n",
       "      <th>3</th>\n",
       "      <td>neutral</td>\n",
       "      <td>woman looking appears telescope</td>\n",
       "      <td>female astronamer looking toward stars telescope</td>\n",
       "      <td>2</td>\n",
       "    </tr>\n",
       "    <tr>\n",
       "      <th>4</th>\n",
       "      <td>entailment</td>\n",
       "      <td>large group people stand outside road people h...</td>\n",
       "      <td>one group people watching another group</td>\n",
       "      <td>1</td>\n",
       "    </tr>\n",
       "    <tr>\n",
       "      <th>5</th>\n",
       "      <td>contradiction</td>\n",
       "      <td>small dark haired boy climbing large tree</td>\n",
       "      <td>small dark haired boy climbing car seat</td>\n",
       "      <td>0</td>\n",
       "    </tr>\n",
       "    <tr>\n",
       "      <th>6</th>\n",
       "      <td>neutral</td>\n",
       "      <td>man sits beside parked cars city street</td>\n",
       "      <td>man sitting bench</td>\n",
       "      <td>2</td>\n",
       "    </tr>\n",
       "    <tr>\n",
       "      <th>7</th>\n",
       "      <td>entailment</td>\n",
       "      <td>dog looks content sitting bed ripping paper</td>\n",
       "      <td>dog sitting bed ripping paper</td>\n",
       "      <td>1</td>\n",
       "    </tr>\n",
       "    <tr>\n",
       "      <th>8</th>\n",
       "      <td>contradiction</td>\n",
       "      <td>young children parents splashing around public...</td>\n",
       "      <td>families eating lunch</td>\n",
       "      <td>0</td>\n",
       "    </tr>\n",
       "    <tr>\n",
       "      <th>9</th>\n",
       "      <td>entailment</td>\n",
       "      <td>football coach guiding one players</td>\n",
       "      <td>coach knows play football</td>\n",
       "      <td>1</td>\n",
       "    </tr>\n",
       "  </tbody>\n",
       "</table>\n",
       "</div>"
      ],
      "text/plain": [
       "      gold_label                                          sentence1  \\\n",
       "0  contradiction               group men cowboy hats watching rodeo   \n",
       "1     entailment      kid head shaved sitting holding lit cigarette   \n",
       "2        neutral  woman riding bicycle past car group people sid...   \n",
       "3        neutral                    woman looking appears telescope   \n",
       "4     entailment  large group people stand outside road people h...   \n",
       "5  contradiction          small dark haired boy climbing large tree   \n",
       "6        neutral            man sits beside parked cars city street   \n",
       "7     entailment        dog looks content sitting bed ripping paper   \n",
       "8  contradiction  young children parents splashing around public...   \n",
       "9     entailment                 football coach guiding one players   \n",
       "\n",
       "                                          sentence2  gold_label_encoded  \n",
       "0                   group women watching horse race                   0  \n",
       "1                              child sits cigarette                   1  \n",
       "2  woman riding bicycle near group friends sidewalk                   2  \n",
       "3  female astronamer looking toward stars telescope                   2  \n",
       "4           one group people watching another group                   1  \n",
       "5           small dark haired boy climbing car seat                   0  \n",
       "6                                 man sitting bench                   2  \n",
       "7                     dog sitting bed ripping paper                   1  \n",
       "8                             families eating lunch                   0  \n",
       "9                         coach knows play football                   1  "
      ]
     },
     "execution_count": 17,
     "metadata": {},
     "output_type": "execute_result"
    }
   ],
   "source": [
    "# converting the gold_label column into numerical values using LabelEncoder\n",
    "encoder = LabelEncoder()\n",
    "df_train['gold_label_encoded'] = encoder.fit_transform(df_train['gold_label'])\n",
    "df_train.head(10)"
   ]
  },
  {
   "cell_type": "markdown",
   "metadata": {},
   "source": [
    "## Data Visualization"
   ]
  },
  {
   "cell_type": "code",
   "execution_count": 18,
   "metadata": {},
   "outputs": [
    {
     "name": "stdout",
     "output_type": "stream",
     "text": [
      "Average Length of sentence 1:  7.985239063001391\n",
      "Average Length of sentence 2:  4.091774521339181\n"
     ]
    }
   ],
   "source": [
    "# this cell shows the average length of words in each sentence\n",
    "avg_length_s1 = df_train['sentence1'].apply(lambda x: len(x.split(\" \"))).mean()\n",
    "avg_length_s2 = df_train['sentence2'].apply(lambda x: len(x.split(\" \"))).mean()\n",
    "print(\"Average Length of sentence 1: \", avg_length_s1)\n",
    "print(\"Average Length of sentence 2: \", avg_length_s2)"
   ]
  },
  {
   "cell_type": "code",
   "execution_count": 19,
   "metadata": {},
   "outputs": [
    {
     "data": {
      "image/png": "[encoded data removed]",
      "text/plain": [
       "<Figure size 720x360 with 1 Axes>"
      ]
     },
     "metadata": {
      "needs_background": "light"
     },
     "output_type": "display_data"
    }
   ],
   "source": [
    "# this plot shows that the data is balanced and all the three categories have very similar number of examples.\n",
    "contradiction_len = df_train[df_train['gold_label'] == 'contradiction'].shape[0]\n",
    "entailment_len = df_train[df_train['gold_label'] == 'entailment'].shape[0]\n",
    "neutral_len = df_train[df_train['gold_label'] == 'neutral'].shape[0]\n",
    "\n",
    "plt.rcParams['figure.figsize'] = (10, 5)\n",
    "plt.bar(0,contradiction_len,3, label=\"contradiction\", color='blue')\n",
    "plt.bar(5,entailment_len,3, label=\"entailment\", color='red')\n",
    "plt.bar(10,neutral_len,3, label=\"neutral\", color='green')\n",
    "\n",
    "plt.legend()\n",
    "plt.ylabel('Number of examples')\n",
    "plt.title('Propertion of examples')\n",
    "plt.show()"
   ]
  },
  {
   "cell_type": "code",
   "execution_count": 20,
   "metadata": {},
   "outputs": [],
   "source": [
    "def length(text):\n",
    "    '''\n",
    "    function to calculate length of a series\n",
    "    '''\n",
    "    return len(text)"
   ]
  },
  {
   "cell_type": "code",
   "execution_count": 21,
   "metadata": {},
   "outputs": [
    {
     "data": {
      "image/png": "[encoded data removed]",
      "text/plain": [
       "<Figure size 1296x432 with 1 Axes>"
      ]
     },
     "metadata": {
      "needs_background": "light"
     },
     "output_type": "display_data"
    }
   ],
   "source": [
    "# Here I am creating the length_s1 column for the training and testing datasets which contains the length of sentence1\n",
    "df_train['length_s1'] = df_train['sentence1'] .apply(length)\n",
    "df_test['length_s1'] = df_test['sentence1'] .apply(length)\n",
    "\n",
    "# Here I am plotting the above created column for all the three categories of the gold_label column\n",
    "plt.rcParams['figure.figsize'] = (18.0, 6.0)\n",
    "bins = 150\n",
    "plt.hist(df_train[df_train['gold_label'] == 'contradiction']['length_s1'], alpha = 0.6, bins=bins, label='contradiction')\n",
    "plt.hist(df_train[df_train['gold_label'] == 'entailment']['length_s1'], alpha = 0.6, bins=bins, label='entailment')\n",
    "plt.hist(df_train[df_train['gold_label'] == 'neutral']['length_s1'], alpha = 0.6, bins=bins, label='neutral')\n",
    "plt.xlabel('length')\n",
    "plt.ylabel('numbers')\n",
    "plt.legend(loc='upper right')\n",
    "plt.xlim(0,150)\n",
    "plt.grid()\n",
    "plt.savefig('./images/length_of_doc_s1.png')\n",
    "plt.show()"
   ]
  },
  {
   "cell_type": "code",
   "execution_count": 22,
   "metadata": {},
   "outputs": [
    {
     "data": {
      "image/png": "[encoded data removed]",
      "text/plain": [
       "<Figure size 1296x432 with 1 Axes>"
      ]
     },
     "metadata": {
      "needs_background": "light"
     },
     "output_type": "display_data"
    }
   ],
   "source": [
    "# Here I am creating the length_s2 column for the training and testing datasets which contains the length of sentence2\n",
    "\n",
    "df_train['length_s2'] = df_train['sentence2'] .apply(length)\n",
    "df_test['length_s2'] = df_test['sentence2'] .apply(length)\n",
    "\n",
    "# Here I am plotting the above created column for all the three categories of the gold_label column\n",
    "plt.rcParams['figure.figsize'] = (18.0, 6.0)\n",
    "bins = 150\n",
    "plt.hist(df_train[df_train['gold_label'] == 'contradiction']['length_s2'], alpha = 0.6, bins=bins, label='contradiction')\n",
    "plt.hist(df_train[df_train['gold_label'] == 'entailment']['length_s2'], alpha = 0.6, bins=bins, label='entailment')\n",
    "plt.hist(df_train[df_train['gold_label'] == 'neutral']['length_s2'], alpha = 0.6, bins=bins, label='neutral')\n",
    "plt.xlabel('length')\n",
    "plt.ylabel('numbers')\n",
    "plt.legend(loc='upper right')\n",
    "plt.xlim(0,150)\n",
    "plt.grid()\n",
    "plt.savefig('./images/length_of_doc_s2.png')\n",
    "plt.show()"
   ]
  },
  {
   "cell_type": "markdown",
   "metadata": {},
   "source": [
    "<hr>"
   ]
  },
  {
   "cell_type": "markdown",
   "metadata": {},
   "source": [
    "## Feature Engineering"
   ]
  },
  {
   "cell_type": "code",
   "execution_count": 23,
   "metadata": {},
   "outputs": [],
   "source": [
    "def seq_similarity(a, b):\n",
    "    '''this function calculate the similarity between two strings using sequence matcher'''\n",
    "    return SequenceMatcher(None, a, b).ratio()\n",
    "    \n",
    "def seq_match_df(df_data):\n",
    "    '''this function will apply the seq_similarity on the dataset passed as parameter for both sentences'''\n",
    "    col1 = 'sentence1'\n",
    "    col2 = 'sentence2'\n",
    "    df_data[col1] = df_data[col1].str.replace(r'\\d', '')\n",
    "    df_data[col2] = df_data[col2].str.replace(r'\\d', '')\n",
    "    df_data['seq_sim'] = 0\n",
    "    df_data['seq_sim'] = df_data.apply(lambda x: seq_similarity(x[col1], x[col2]), axis=1)\n",
    "    return df_data\n",
    "\n",
    "# applying the sequence matching on the training and testing datasets\n",
    "df_train_result_seq = seq_match_df(df_train)\n",
    "df_test_result_seq = seq_match_df(df_test)"
   ]
  },
  {
   "cell_type": "code",
   "execution_count": 24,
   "metadata": {},
   "outputs": [],
   "source": [
    "vectorizer = text.TfidfVectorizer()\n",
    "\n",
    "def cosine_sim(test1, test2):\n",
    "    '''this function calculate the cosine similarity between two strings \n",
    "    using Term frequency and Inverse document frequency vector'''\n",
    "    tfidf = vectorizer.fit_transform([test1, test2])\n",
    "    result = ((tfidf * tfidf.T).A)[0,1]\n",
    "    return result\n",
    "    \n",
    "def cosine_sim_df(df_data):\n",
    "    '''this function will apply the cosine_sim on the dataset passed as parameter for both sentences'''\n",
    "    col1 = 'sentence1'\n",
    "    col2 = 'sentence2'\n",
    "    df_data[col1] = df_data[col1].str.replace(r'\\d', '')\n",
    "    df_data[col2] = df_data[col2].str.replace(r'\\d', '')\n",
    "    df_data['cos_sim'] = 0\n",
    "    df_data['cos_sim'] = df_data.apply(lambda x: cosine_sim(x[col1], x[col2]), axis=1)\n",
    "    return df_data\n",
    "\n",
    "# applying the cosine similarity on the training and testing datasets\n",
    "df_train_result_cos = cosine_sim_df(df_train)\n",
    "df_test_result_cos = cosine_sim_df(df_test)"
   ]
  },
  {
   "cell_type": "markdown",
   "metadata": {},
   "source": [
    "### Unigram"
   ]
  },
  {
   "cell_type": "code",
   "execution_count": 25,
   "metadata": {},
   "outputs": [],
   "source": [
    "\n",
    "def get_unigrams(que):\n",
    "    '''this function will generat the unigram for a string'''\n",
    "    return [word for word in word_tokenize(que.lower()) if word not in eng_stopwords]\n",
    "\n",
    "\n",
    "# Here I am applying the above function to get unigrams for sentence1 and sentence2\n",
    "df_train[\"unigrams_s1\"] = df_train['sentence1'].apply(lambda x: get_unigrams(str(x)))\n",
    "df_train[\"unigrams_s2\"] = df_train['sentence2'].apply(lambda x: get_unigrams(str(x)))\n",
    "df_test[\"unigrams_s1\"] = df_test['sentence1'].apply(lambda x: get_unigrams(str(x)))\n",
    "df_test[\"unigrams_s2\"] = df_test['sentence2'].apply(lambda x: get_unigrams(str(x)))"
   ]
  },
  {
   "cell_type": "code",
   "execution_count": 26,
   "metadata": {},
   "outputs": [],
   "source": [
    "def get_common_unigrams(row):\n",
    "    '''this function finds the intersection between two unigrams in pandas and return length of intersection'''\n",
    "    return len(set(row[\"unigrams_s1\"]).intersection(set(row[\"unigrams_s2\"])) ) \n",
    "\n",
    "# Here I am applying the above function to get unique unigrams\n",
    "df_train[\"unigrams_common_count\"] = df_train.apply(lambda row: get_common_unigrams(row), axis=1)\n",
    "df_test[\"unigrams_common_count\"] = df_test.apply(lambda row: get_common_unigrams(row), axis=1)"
   ]
  },
  {
   "cell_type": "code",
   "execution_count": 27,
   "metadata": {},
   "outputs": [],
   "source": [
    "def get_common_unigram_ratio(row):\n",
    "    '''this function will genetate the ratio of common unigrams to the maximum of union of the two sets'''\n",
    "    return float(row[\"unigrams_common_count\"]) / max(len( set(row[\"unigrams_s1\"]).union(set(row[\"unigrams_s2\"]))), 1)\n",
    "\n",
    "# Here I am applying the above function to get unique unigrams ratio\n",
    "df_train[\"unigrams_common_ratio\"] = df_train.apply(lambda row: get_common_unigram_ratio(row),axis=1)\n",
    "df_test[\"unigrams_common_ratio\"] = df_test.apply(lambda row: get_common_unigram_ratio(row),axis=1)"
   ]
  },
  {
   "cell_type": "markdown",
   "metadata": {},
   "source": [
    "### Bigram"
   ]
  },
  {
   "cell_type": "code",
   "execution_count": 28,
   "metadata": {},
   "outputs": [],
   "source": [
    "def get_bigrams(que):\n",
    "    '''this function creates the bigram for a string'''\n",
    "    return [ i for i in ngrams(que,2)]\n",
    "\n",
    "# Here I am applying the above function to get bigrams for sentence1 and sentence2\n",
    "df_train[\"bigrams_s1\"] = df_train[\"unigrams_s1\"].apply(lambda x: get_bigrams(x))\n",
    "df_train[\"bigrams_s2\"] = df_train[\"unigrams_s2\"].apply(lambda x: get_bigrams(x))\n",
    "df_test[\"bigrams_s1\"] = df_test[\"unigrams_s1\"].apply(lambda x: get_bigrams(x))\n",
    "df_test[\"bigrams_s2\"] = df_test[\"unigrams_s2\"].apply(lambda x: get_bigrams(x))"
   ]
  },
  {
   "cell_type": "code",
   "execution_count": 29,
   "metadata": {},
   "outputs": [],
   "source": [
    "def get_common_bigrams(row):\n",
    "    '''this function finds the intersection between two bigrams in pandas and return length of intersection'''\n",
    "    return len( set(row['bigrams_s1']).intersection(set(row['bigrams_s2'])) )\n",
    "\n",
    "# Here I am applying the above function to get unique bigrams\n",
    "df_train[\"bigrams_common_count\"] = df_train.apply(lambda row: get_common_bigrams(row), axis=1)\n",
    "df_test[\"bigrams_common_count\"] = df_test.apply(lambda row: get_common_bigrams(row), axis=1)"
   ]
  },
  {
   "cell_type": "code",
   "execution_count": 30,
   "metadata": {},
   "outputs": [],
   "source": [
    "def get_common_bigram_ratio(row):\n",
    "    '''this function will genetate the ratio of common bigrams to the maximum of union of the two sets'''\n",
    "    return float(row[\"bigrams_common_count\"]) / max(len( set(row[\"bigrams_s1\"]).union(set(row[\"bigrams_s2\"]))), 1)\n",
    "\n",
    "# Here I am applying the above function to get unique bigrams ratio\n",
    "df_train[\"bigrams_common_ratio\"] = df_train.apply(lambda row: get_common_bigram_ratio(row), axis=1)\n",
    "df_test[\"bigrams_common_ratio\"] = df_test.apply(lambda row: get_common_bigram_ratio(row), axis=1)"
   ]
  },
  {
   "cell_type": "code",
   "execution_count": 31,
   "metadata": {},
   "outputs": [],
   "source": [
    "# train_data_features_2 = vectorizer.fit_transform(X_train[\"sentence2\"])\n",
    "# train_data_features_2 = train_data_features_2.toarray()\n",
    "# print(train_data_features_2.shape)\n",
    "\n",
    "# train_data_features_1 = vectorizer.fit_transform(X_train['sentence1'])\n",
    "# train_data_features_1 = train_data_features_1.toarray()\n",
    "# print(train_data_features_1.shape)\n",
    "\n",
    "# train_data_features_12 = np.stack((train_data_features_1, train_data_features_2), axis=0) \n",
    "# print(train_data_features_12.shape)\n",
    "\n",
    "# train_data_features_12 = train_data_features_12.reshape(train_data_features_1.shape[0], -1)\n",
    "# print(train_data_features_12.shape)"
   ]
  },
  {
   "cell_type": "code",
   "execution_count": 32,
   "metadata": {},
   "outputs": [],
   "source": [
    "# test_data_features_2 = vectorizer.fit_transform(X_test[\"sentence2\"])\n",
    "# test_data_features_2 = test_data_features_2.toarray()\n",
    "# print(test_data_features_2.shape)\n",
    "\n",
    "# test_data_features_1 = vectorizer.fit_transform(X_test['sentence1'])\n",
    "# test_data_features_1 = test_data_features_1.toarray()\n",
    "# print(test_data_features_1.shape)\n",
    "\n",
    "# test_data_features_12 = np.stack((test_data_features_1, test_data_features_2), axis=0) \n",
    "# print(test_data_features_12.shape)\n",
    "\n",
    "# test_data_features_12 = test_data_features_12.reshape(test_data_features_1.shape[0], -1)\n",
    "# print(test_data_features_12.shape)"
   ]
  },
  {
   "cell_type": "code",
   "execution_count": 33,
   "metadata": {},
   "outputs": [],
   "source": [
    "# vocab = vectorizer.get_feature_names()\n",
    "# print(vocab)"
   ]
  },
  {
   "cell_type": "code",
   "execution_count": 34,
   "metadata": {},
   "outputs": [
    {
     "data": {
      "text/html": [
       "<div>\n",
       "<style scoped>\n",
       "    .dataframe tbody tr th:only-of-type {\n",
       "        vertical-align: middle;\n",
       "    }\n",
       "\n",
       "    .dataframe tbody tr th {\n",
       "        vertical-align: top;\n",
       "    }\n",
       "\n",
       "    .dataframe thead th {\n",
       "        text-align: right;\n",
       "    }\n",
       "</style>\n",
       "<table border=\"1\" class=\"dataframe\">\n",
       "  <thead>\n",
       "    <tr style=\"text-align: right;\">\n",
       "      <th></th>\n",
       "      <th>gold_label</th>\n",
       "      <th>sentence1</th>\n",
       "      <th>sentence2</th>\n",
       "      <th>gold_label_encoded</th>\n",
       "      <th>length_s1</th>\n",
       "      <th>length_s2</th>\n",
       "      <th>seq_sim</th>\n",
       "      <th>cos_sim</th>\n",
       "      <th>unigrams_s1</th>\n",
       "      <th>unigrams_s2</th>\n",
       "      <th>unigrams_common_count</th>\n",
       "      <th>unigrams_common_ratio</th>\n",
       "      <th>bigrams_s1</th>\n",
       "      <th>bigrams_s2</th>\n",
       "      <th>bigrams_common_count</th>\n",
       "      <th>bigrams_common_ratio</th>\n",
       "    </tr>\n",
       "  </thead>\n",
       "  <tbody>\n",
       "    <tr>\n",
       "      <th>0</th>\n",
       "      <td>contradiction</td>\n",
       "      <td>group men cowboy hats watching rodeo</td>\n",
       "      <td>group women watching horse race</td>\n",
       "      <td>0</td>\n",
       "      <td>36</td>\n",
       "      <td>31</td>\n",
       "      <td>0.626866</td>\n",
       "      <td>0.225765</td>\n",
       "      <td>[group, men, cowboy, hats, watching, rodeo]</td>\n",
       "      <td>[group, women, watching, horse, race]</td>\n",
       "      <td>2</td>\n",
       "      <td>0.222222</td>\n",
       "      <td>[(group, men), (men, cowboy), (cowboy, hats), ...</td>\n",
       "      <td>[(group, women), (women, watching), (watching,...</td>\n",
       "      <td>0</td>\n",
       "      <td>0.000000</td>\n",
       "    </tr>\n",
       "    <tr>\n",
       "      <th>1</th>\n",
       "      <td>entailment</td>\n",
       "      <td>kid head shaved sitting holding lit cigarette</td>\n",
       "      <td>child sits cigarette</td>\n",
       "      <td>1</td>\n",
       "      <td>45</td>\n",
       "      <td>20</td>\n",
       "      <td>0.492308</td>\n",
       "      <td>0.125367</td>\n",
       "      <td>[kid, head, shaved, sitting, holding, lit, cig...</td>\n",
       "      <td>[child, sits, cigarette]</td>\n",
       "      <td>1</td>\n",
       "      <td>0.111111</td>\n",
       "      <td>[(kid, head), (head, shaved), (shaved, sitting...</td>\n",
       "      <td>[(child, sits), (sits, cigarette)]</td>\n",
       "      <td>0</td>\n",
       "      <td>0.000000</td>\n",
       "    </tr>\n",
       "    <tr>\n",
       "      <th>2</th>\n",
       "      <td>neutral</td>\n",
       "      <td>woman riding bicycle past car group people sid...</td>\n",
       "      <td>woman riding bicycle near group friends sidewalk</td>\n",
       "      <td>2</td>\n",
       "      <td>51</td>\n",
       "      <td>48</td>\n",
       "      <td>0.808081</td>\n",
       "      <td>0.505606</td>\n",
       "      <td>[woman, riding, bicycle, past, car, group, peo...</td>\n",
       "      <td>[woman, riding, bicycle, near, group, friends,...</td>\n",
       "      <td>5</td>\n",
       "      <td>0.500000</td>\n",
       "      <td>[(woman, riding), (riding, bicycle), (bicycle,...</td>\n",
       "      <td>[(woman, riding), (riding, bicycle), (bicycle,...</td>\n",
       "      <td>2</td>\n",
       "      <td>0.181818</td>\n",
       "    </tr>\n",
       "  </tbody>\n",
       "</table>\n",
       "</div>"
      ],
      "text/plain": [
       "      gold_label                                          sentence1  \\\n",
       "0  contradiction               group men cowboy hats watching rodeo   \n",
       "1     entailment      kid head shaved sitting holding lit cigarette   \n",
       "2        neutral  woman riding bicycle past car group people sid...   \n",
       "\n",
       "                                          sentence2  gold_label_encoded  \\\n",
       "0                   group women watching horse race                   0   \n",
       "1                              child sits cigarette                   1   \n",
       "2  woman riding bicycle near group friends sidewalk                   2   \n",
       "\n",
       "   length_s1  length_s2   seq_sim   cos_sim  \\\n",
       "0         36         31  0.626866  0.225765   \n",
       "1         45         20  0.492308  0.125367   \n",
       "2         51         48  0.808081  0.505606   \n",
       "\n",
       "                                         unigrams_s1  \\\n",
       "0        [group, men, cowboy, hats, watching, rodeo]   \n",
       "1  [kid, head, shaved, sitting, holding, lit, cig...   \n",
       "2  [woman, riding, bicycle, past, car, group, peo...   \n",
       "\n",
       "                                         unigrams_s2  unigrams_common_count  \\\n",
       "0              [group, women, watching, horse, race]                      2   \n",
       "1                           [child, sits, cigarette]                      1   \n",
       "2  [woman, riding, bicycle, near, group, friends,...                      5   \n",
       "\n",
       "   unigrams_common_ratio                                         bigrams_s1  \\\n",
       "0               0.222222  [(group, men), (men, cowboy), (cowboy, hats), ...   \n",
       "1               0.111111  [(kid, head), (head, shaved), (shaved, sitting...   \n",
       "2               0.500000  [(woman, riding), (riding, bicycle), (bicycle,...   \n",
       "\n",
       "                                          bigrams_s2  bigrams_common_count  \\\n",
       "0  [(group, women), (women, watching), (watching,...                     0   \n",
       "1                 [(child, sits), (sits, cigarette)]                     0   \n",
       "2  [(woman, riding), (riding, bicycle), (bicycle,...                     2   \n",
       "\n",
       "   bigrams_common_ratio  \n",
       "0              0.000000  \n",
       "1              0.000000  \n",
       "2              0.181818  "
      ]
     },
     "execution_count": 34,
     "metadata": {},
     "output_type": "execute_result"
    }
   ],
   "source": [
    "df_train.head(3)"
   ]
  },
  {
   "cell_type": "code",
   "execution_count": null,
   "metadata": {},
   "outputs": [],
   "source": []
  },
  {
   "cell_type": "code",
   "execution_count": 35,
   "metadata": {},
   "outputs": [],
   "source": [
    "# Here I am removing the object columns from the dataset and creating the input and target datasets for training\n",
    "df_X = df_train.drop(['gold_label', 'sentence1', 'sentence2', 'unigrams_s1',\n",
    "                      'unigrams_s2', 'bigrams_s1', 'bigrams_s2', 'gold_label_encoded'], axis=1)\n",
    "df_y = df_train[\"gold_label_encoded\"]"
   ]
  },
  {
   "cell_type": "code",
   "execution_count": 36,
   "metadata": {},
   "outputs": [],
   "source": [
    "# Here I am removing the object columns from the test dataset and creating the input dataset for testing\n",
    "df_test_X = df_test.drop(['sentence1', 'sentence2', 'unigrams_s1',\n",
    "                      'unigrams_s2', 'bigrams_s1', 'bigrams_s2'], axis=1)"
   ]
  },
  {
   "cell_type": "code",
   "execution_count": 37,
   "metadata": {},
   "outputs": [
    {
     "data": {
      "text/html": [
       "<div>\n",
       "<style scoped>\n",
       "    .dataframe tbody tr th:only-of-type {\n",
       "        vertical-align: middle;\n",
       "    }\n",
       "\n",
       "    .dataframe tbody tr th {\n",
       "        vertical-align: top;\n",
       "    }\n",
       "\n",
       "    .dataframe thead th {\n",
       "        text-align: right;\n",
       "    }\n",
       "</style>\n",
       "<table border=\"1\" class=\"dataframe\">\n",
       "  <thead>\n",
       "    <tr style=\"text-align: right;\">\n",
       "      <th></th>\n",
       "      <th>length_s1</th>\n",
       "      <th>length_s2</th>\n",
       "      <th>seq_sim</th>\n",
       "      <th>cos_sim</th>\n",
       "      <th>unigrams_common_count</th>\n",
       "      <th>unigrams_common_ratio</th>\n",
       "      <th>bigrams_common_count</th>\n",
       "      <th>bigrams_common_ratio</th>\n",
       "    </tr>\n",
       "  </thead>\n",
       "  <tbody>\n",
       "    <tr>\n",
       "      <th>0</th>\n",
       "      <td>36</td>\n",
       "      <td>31</td>\n",
       "      <td>0.626866</td>\n",
       "      <td>0.225765</td>\n",
       "      <td>2</td>\n",
       "      <td>0.222222</td>\n",
       "      <td>0</td>\n",
       "      <td>0.000000</td>\n",
       "    </tr>\n",
       "    <tr>\n",
       "      <th>1</th>\n",
       "      <td>45</td>\n",
       "      <td>20</td>\n",
       "      <td>0.492308</td>\n",
       "      <td>0.125367</td>\n",
       "      <td>1</td>\n",
       "      <td>0.111111</td>\n",
       "      <td>0</td>\n",
       "      <td>0.000000</td>\n",
       "    </tr>\n",
       "    <tr>\n",
       "      <th>2</th>\n",
       "      <td>51</td>\n",
       "      <td>48</td>\n",
       "      <td>0.808081</td>\n",
       "      <td>0.505606</td>\n",
       "      <td>5</td>\n",
       "      <td>0.500000</td>\n",
       "      <td>2</td>\n",
       "      <td>0.181818</td>\n",
       "    </tr>\n",
       "  </tbody>\n",
       "</table>\n",
       "</div>"
      ],
      "text/plain": [
       "   length_s1  length_s2   seq_sim   cos_sim  unigrams_common_count  \\\n",
       "0         36         31  0.626866  0.225765                      2   \n",
       "1         45         20  0.492308  0.125367                      1   \n",
       "2         51         48  0.808081  0.505606                      5   \n",
       "\n",
       "   unigrams_common_ratio  bigrams_common_count  bigrams_common_ratio  \n",
       "0               0.222222                     0              0.000000  \n",
       "1               0.111111                     0              0.000000  \n",
       "2               0.500000                     2              0.181818  "
      ]
     },
     "execution_count": 37,
     "metadata": {},
     "output_type": "execute_result"
    }
   ],
   "source": [
    "df_X.head(3)"
   ]
  },
  {
   "cell_type": "code",
   "execution_count": 38,
   "metadata": {},
   "outputs": [
    {
     "data": {
      "text/html": [
       "<div>\n",
       "<style scoped>\n",
       "    .dataframe tbody tr th:only-of-type {\n",
       "        vertical-align: middle;\n",
       "    }\n",
       "\n",
       "    .dataframe tbody tr th {\n",
       "        vertical-align: top;\n",
       "    }\n",
       "\n",
       "    .dataframe thead th {\n",
       "        text-align: right;\n",
       "    }\n",
       "</style>\n",
       "<table border=\"1\" class=\"dataframe\">\n",
       "  <thead>\n",
       "    <tr style=\"text-align: right;\">\n",
       "      <th></th>\n",
       "      <th>length_s1</th>\n",
       "      <th>length_s2</th>\n",
       "      <th>seq_sim</th>\n",
       "      <th>cos_sim</th>\n",
       "      <th>unigrams_common_count</th>\n",
       "      <th>unigrams_common_ratio</th>\n",
       "      <th>bigrams_common_count</th>\n",
       "      <th>bigrams_common_ratio</th>\n",
       "    </tr>\n",
       "  </thead>\n",
       "  <tbody>\n",
       "    <tr>\n",
       "      <th>0</th>\n",
       "      <td>58</td>\n",
       "      <td>27</td>\n",
       "      <td>0.423529</td>\n",
       "      <td>0.299580</td>\n",
       "      <td>2</td>\n",
       "      <td>0.200000</td>\n",
       "      <td>1</td>\n",
       "      <td>0.1</td>\n",
       "    </tr>\n",
       "    <tr>\n",
       "      <th>1</th>\n",
       "      <td>28</td>\n",
       "      <td>14</td>\n",
       "      <td>0.523810</td>\n",
       "      <td>0.150640</td>\n",
       "      <td>1</td>\n",
       "      <td>0.142857</td>\n",
       "      <td>0</td>\n",
       "      <td>0.0</td>\n",
       "    </tr>\n",
       "    <tr>\n",
       "      <th>2</th>\n",
       "      <td>33</td>\n",
       "      <td>37</td>\n",
       "      <td>0.685714</td>\n",
       "      <td>0.225765</td>\n",
       "      <td>2</td>\n",
       "      <td>0.222222</td>\n",
       "      <td>0</td>\n",
       "      <td>0.0</td>\n",
       "    </tr>\n",
       "  </tbody>\n",
       "</table>\n",
       "</div>"
      ],
      "text/plain": [
       "   length_s1  length_s2   seq_sim   cos_sim  unigrams_common_count  \\\n",
       "0         58         27  0.423529  0.299580                      2   \n",
       "1         28         14  0.523810  0.150640                      1   \n",
       "2         33         37  0.685714  0.225765                      2   \n",
       "\n",
       "   unigrams_common_ratio  bigrams_common_count  bigrams_common_ratio  \n",
       "0               0.200000                     1                   0.1  \n",
       "1               0.142857                     0                   0.0  \n",
       "2               0.222222                     0                   0.0  "
      ]
     },
     "execution_count": 38,
     "metadata": {},
     "output_type": "execute_result"
    }
   ],
   "source": [
    "df_test_X.head(3)"
   ]
  },
  {
   "cell_type": "markdown",
   "metadata": {},
   "source": [
    "### Plotting the correlation"
   ]
  },
  {
   "cell_type": "code",
   "execution_count": 39,
   "metadata": {},
   "outputs": [
    {
     "data": {
      "image/png": "[encoded data removed]",
      "text/plain": [
       "<Figure size 864x720 with 2 Axes>"
      ]
     },
     "metadata": {
      "needs_background": "light"
     },
     "output_type": "display_data"
    }
   ],
   "source": [
    "# here I am plotting the heatmap based on the correlation matrix of features in the dataset. \n",
    "df_X.corr()\n",
    "f, ax = plt.subplots(figsize=(12, 10))\n",
    "sns.heatmap(df_X.corr(), annot=True, linewidths=0.5, square=True, vmax=0.3, center=0, cmap=sns.cubehelix_palette())\n",
    "plt.savefig('./images/correlation_heatmap.png')"
   ]
  },
  {
   "cell_type": "markdown",
   "metadata": {},
   "source": [
    "### Scaling Data"
   ]
  },
  {
   "cell_type": "code",
   "execution_count": 40,
   "metadata": {},
   "outputs": [
    {
     "name": "stdout",
     "output_type": "stream",
     "text": [
      "[[0.11842105 0.18918919 0.61765248 ... 0.22222222 0.         0.        ]\n",
      " [0.15789474 0.11486486 0.47977208 ... 0.11111111 0.         0.        ]\n",
      " [0.18421053 0.30405405 0.80334206 ... 0.5        0.08333333 0.18181818]\n",
      " ...\n",
      " [0.29385965 0.23648649 0.42473468 ... 0.13333333 0.         0.        ]\n",
      " [0.11842105 0.25675676 0.5342312  ... 0.3        0.04166667 0.1       ]\n",
      " [0.18859649 0.35135135 0.93296412 ... 0.77777778 0.20833333 0.55555556]]\n",
      "[[0.21491228 0.16216216 0.40929557 ... 0.2        0.04166667 0.1       ]\n",
      " [0.08333333 0.07432432 0.51205173 ... 0.14285714 0.         0.        ]\n",
      " [0.10526316 0.22972973 0.67795414 ... 0.22222222 0.         0.        ]\n",
      " ...\n",
      " [0.22368421 0.14189189 0.24368019 ... 0.         0.         0.        ]\n",
      " [0.19298246 0.10135135 0.14849591 ... 0.         0.         0.        ]\n",
      " [0.1754386  0.16891892 0.5342312  ... 0.375      0.04166667 0.125     ]]\n"
     ]
    }
   ],
   "source": [
    "# In this cell I am scaling the complete input dataset using MinMaxScaler \n",
    "# which will fit the data in the range of inclusive [0, 1]\n",
    "# fitting the training input data and transforming both training and testing data\n",
    "\n",
    "from sklearn.preprocessing import MinMaxScaler\n",
    "scaler = MinMaxScaler()\n",
    "df_scaled = scaler.fit_transform(df_X)\n",
    "df_test_scaled = scaler.transform(df_test_X)\n",
    "print(df_scaled)\n",
    "print(df_test_scaled)"
   ]
  },
  {
   "cell_type": "code",
   "execution_count": 41,
   "metadata": {},
   "outputs": [
    {
     "data": {
      "text/plain": [
       "(7479, 8)"
      ]
     },
     "execution_count": 41,
     "metadata": {},
     "output_type": "execute_result"
    }
   ],
   "source": [
    "# Here I am splitting the trainign data into train and validation datasets in a ratio of 80:20 percentage.\n",
    "X_train, X_cv, y_train, y_cv = train_test_split(df_scaled, df_y, test_size=0.2, random_state=42)\n",
    "X_train.shape"
   ]
  },
  {
   "cell_type": "markdown",
   "metadata": {},
   "source": [
    "## Building ML Models"
   ]
  },
  {
   "cell_type": "code",
   "execution_count": 42,
   "metadata": {},
   "outputs": [],
   "source": [
    "def model_evaluation(y_test, y_pred):\n",
    "    '''\n",
    "    this function will claculate the evaluation matrix for the real output and predicted output values and generate report for:\n",
    "    * Confusion Matrix\n",
    "    * Matrics like True Positive, True Negative, False Positive and False Negative\n",
    "    * Calculate accuracy based on the above factors\n",
    "    * generate classification report\n",
    "    '''\n",
    "    cm = confusion_matrix(y_test, y_pred)\n",
    "\n",
    "    print(\"Confusion Matrix:\")\n",
    "    print(cm, end=\"\\n\\n\")\n",
    "\n",
    "    TN = cm[0, 0]\n",
    "    FN = cm[0, 1]\n",
    "    FP = cm[1, 0]\n",
    "    TP = cm[1, 1]\n",
    "\n",
    "    P = FN+TP\n",
    "    N = TN+FP\n",
    "\n",
    "    TPR = TP/P\n",
    "    TNR = TN/N\n",
    "    FPR = FP/N\n",
    "    FNR = FN/P\n",
    "\n",
    "    accuracy = (TN+TP)/(P+N)\n",
    "#     print(\"Test Accuracy: \"+str(accuracy), end=\"\\n\\n\")\n",
    "    print(\"Test Accuracy: \"+str(accuracy_score(y_test, y_pred)), end=\"\\n\\n\")\n",
    "    print(\"All 4 parameters: \",TN, FN, FP, TP, end=\"\\n\\n\")\n",
    "    print(\"TPR: {}\".format(TPR))\n",
    "    print(\"TNR: {}\".format(TNR))\n",
    "    print(\"FPR: {}\".format(FPR))\n",
    "    print(\"FNR: {}\".format(FNR))\n",
    "    print()\n",
    "    \n",
    "    print(classification_report(y_test, y_pred))"
   ]
  },
  {
   "cell_type": "markdown",
   "metadata": {},
   "source": [
    "#### Classification models"
   ]
  },
  {
   "cell_type": "code",
   "execution_count": 43,
   "metadata": {},
   "outputs": [
    {
     "name": "stdout",
     "output_type": "stream",
     "text": [
      "LR [0.49298034 0.48215002 0.52667469] 0.5006016847172082\n",
      "NB [0.44925792 0.44003209 0.45166466] 0.44698489102821237\n",
      "RF [0.44685118 0.45527477 0.4713197 ] 0.4578152159379596\n",
      "Dtree [0.42438829 0.40593662 0.42198155] 0.41743548602754377\n",
      "XGB [0.50300842 0.49578821 0.53269154] 0.5104960556224094\n",
      "KNN [0.46048937 0.459286   0.47412756] 0.46463430939965233\n",
      "SVC [0.49177698 0.48054553 0.50701966] 0.4931140526808397\n"
     ]
    }
   ],
   "source": [
    "# Here I am making a list of some high performing classification machine learnign models \n",
    "# and over each iteration I am printing their performance for 3 cross validations.\n",
    "\n",
    "models = []\n",
    "models.append((\"LR\",LogisticRegression()))\n",
    "models.append((\"NB\",GaussianNB()))\n",
    "models.append((\"RF\",RandomForestClassifier()))\n",
    "models.append((\"Dtree\",DecisionTreeClassifier()))\n",
    "models.append((\"XGB\",xgb.XGBClassifier()))\n",
    "models.append((\"KNN\",KNeighborsClassifier()))\n",
    "models.append((\"SVC\",SVC()))\n",
    "\n",
    "for name,model in models:\n",
    "    kfold = KFold(n_splits=3, random_state=42)\n",
    "    cv_result = cross_val_score(model,X_train,y_train, cv = kfold, scoring = \"accuracy\")\n",
    "    print(name, cv_result, np.mean(cv_result))"
   ]
  },
  {
   "cell_type": "markdown",
   "metadata": {},
   "source": [
    "#### XGB Classifier"
   ]
  },
  {
   "cell_type": "code",
   "execution_count": 44,
   "metadata": {},
   "outputs": [
    {
     "name": "stdout",
     "output_type": "stream",
     "text": [
      "prediction:  [1 2 1 ... 0 0 0]\n",
      "\n",
      "Confusion Matrix:\n",
      "[[380 110 125]\n",
      " [151 396  90]\n",
      " [269 129 220]]\n",
      "\n",
      "Test Accuracy: 0.532620320855615\n",
      "\n",
      "All 4 parameters:  380 110 151 396\n",
      "\n",
      "TPR: 0.782608695652174\n",
      "TNR: 0.7156308851224106\n",
      "FPR: 0.2843691148775895\n",
      "FNR: 0.21739130434782608\n",
      "\n",
      "              precision    recall  f1-score   support\n",
      "\n",
      "           0       0.47      0.62      0.54       615\n",
      "           1       0.62      0.62      0.62       637\n",
      "           2       0.51      0.36      0.42       618\n",
      "\n",
      "   micro avg       0.53      0.53      0.53      1870\n",
      "   macro avg       0.53      0.53      0.53      1870\n",
      "weighted avg       0.54      0.53      0.53      1870\n",
      "\n"
     ]
    }
   ],
   "source": [
    "# Based on the performance analysis of the above models I am selecting XGBClassifier\n",
    "# Here I am training the XGBClassifier using training dataset and validating the matrics using validation dataset.\n",
    "# finally I am generating the performance report of the model.\n",
    "\n",
    "xgb_classifier = xgb.XGBClassifier()\n",
    "hist = xgb_classifier.fit(X_train, y_train)\n",
    "predictions = xgb_classifier.predict(X_cv)\n",
    "print(\"prediction: \", predictions, end=\"\\n\\n\")\n",
    "model_evaluation(y_cv, predictions)"
   ]
  },
  {
   "cell_type": "markdown",
   "metadata": {},
   "source": [
    "### Working on Neural Network"
   ]
  },
  {
   "cell_type": "code",
   "execution_count": 45,
   "metadata": {},
   "outputs": [],
   "source": [
    "def show_learning_curve(hist, fig_name):\n",
    "    '''\n",
    "    this function will plot the graph showing the network's performance on training data \n",
    "    and plots metrics like loss, val_loss, accuracy, val_accuracy.\n",
    "    '''\n",
    "    plt.plot(hist.history['loss'], 'y', label='train loss')\n",
    "    plt.plot(hist.history['val_loss'], 'r', label='val loss')\n",
    "    plt.xlabel('epoch')\n",
    "    plt.ylabel('loss')\n",
    "    plt.legend(loc='lower left')\n",
    "    plt.savefig(f'./images/{fig_name}_loss.png')\n",
    "    plt.show()\n",
    "    \n",
    "    plt.plot(hist.history['accuracy'], 'b', label='train acc')\n",
    "    plt.plot(hist.history['val_accuracy'], 'g', label='val acc')\n",
    "    plt.xlabel('epoch')\n",
    "    plt.ylabel('accuracy')\n",
    "    plt.legend(loc='upper left')\n",
    "    plt.savefig(f'./images/{fig_name}_accuracy.png')\n",
    "    plt.show()\n"
   ]
  },
  {
   "cell_type": "markdown",
   "metadata": {},
   "source": [
    "#### Multi-layer Perceptron"
   ]
  },
  {
   "cell_type": "code",
   "execution_count": 46,
   "metadata": {},
   "outputs": [
    {
     "name": "stdout",
     "output_type": "stream",
     "text": [
      "Confusion Matrix:\n",
      "[[420 103  92]\n",
      " [178 393  66]\n",
      " [302 129 187]]\n",
      "\n",
      "Test Accuracy: 0.5347593582887701\n",
      "\n",
      "All 4 parameters:  420 103 178 393\n",
      "\n",
      "TPR: 0.7923387096774194\n",
      "TNR: 0.7023411371237458\n",
      "FPR: 0.2976588628762542\n",
      "FNR: 0.20766129032258066\n",
      "\n",
      "              precision    recall  f1-score   support\n",
      "\n",
      "           0       0.47      0.68      0.55       615\n",
      "           1       0.63      0.62      0.62       637\n",
      "           2       0.54      0.30      0.39       618\n",
      "\n",
      "   micro avg       0.53      0.53      0.53      1870\n",
      "   macro avg       0.55      0.53      0.52      1870\n",
      "weighted avg       0.55      0.53      0.52      1870\n",
      "\n"
     ]
    }
   ],
   "source": [
    "# Here I am training the Multi Layer Perceptron Classifier which is available in sklearn library\n",
    "# using training dataset and validating the matrics using validation dataset.\n",
    "# finally I am generating the performance report of the model.\n",
    "\n",
    "from sklearn.neural_network import MLPClassifier\n",
    "mpl_model = MLPClassifier(hidden_layer_sizes=(20,90,120), learning_rate_init=0.001, max_iter=5000)\n",
    "mpl_model.fit(X_train, y_train)\n",
    "predictions = mpl_model.predict(X_cv)\n",
    "\n",
    "model_evaluation(y_cv, predictions)"
   ]
  },
  {
   "cell_type": "markdown",
   "metadata": {},
   "source": [
    "#### Sequential Network"
   ]
  },
  {
   "cell_type": "code",
   "execution_count": 47,
   "metadata": {},
   "outputs": [
    {
     "name": "stdout",
     "output_type": "stream",
     "text": [
      "WARNING:tensorflow:From C:\\Users\\paras\\Anaconda3\\lib\\site-packages\\tensorflow_core\\python\\ops\\resource_variable_ops.py:1630: calling BaseResourceVariable.__init__ (from tensorflow.python.ops.resource_variable_ops) with constraint is deprecated and will be removed in a future version.\n",
      "Instructions for updating:\n",
      "If using Keras pass *_constraint arguments to layers.\n",
      "WARNING:tensorflow:From C:\\Users\\paras\\Anaconda3\\lib\\site-packages\\tensorflow_core\\python\\ops\\nn_impl.py:183: where (from tensorflow.python.ops.array_ops) is deprecated and will be removed in a future version.\n",
      "Instructions for updating:\n",
      "Use tf.where in 2.0, which has the same broadcast rule as np.where\n",
      "WARNING:tensorflow:From C:\\Users\\paras\\Anaconda3\\lib\\site-packages\\keras\\backend\\tensorflow_backend.py:422: The name tf.global_variables is deprecated. Please use tf.compat.v1.global_variables instead.\n",
      "\n",
      "Train on 7479 samples, validate on 1870 samples\n",
      "Epoch 1/100\n",
      "7479/7479 [==============================] - 0s 56us/step - loss: 0.1337 - accuracy: 0.3406 - val_loss: -0.2905 - val_accuracy: 0.3353\n",
      "Epoch 2/100\n",
      "7479/7479 [==============================] - 0s 30us/step - loss: -0.1385 - accuracy: 0.3395 - val_loss: -0.6079 - val_accuracy: 0.3353\n",
      "Epoch 3/100\n",
      "7479/7479 [==============================] - 0s 31us/step - loss: -0.3486 - accuracy: 0.3395 - val_loss: -1.1801 - val_accuracy: 0.3353\n",
      "Epoch 4/100\n",
      "7479/7479 [==============================] - 0s 33us/step - loss: -0.7570 - accuracy: 0.3395 - val_loss: -2.4105 - val_accuracy: 0.3353\n",
      "Epoch 5/100\n",
      "7479/7479 [==============================] - 0s 31us/step - loss: -1.4580 - accuracy: 0.3395 - val_loss: -4.3123 - val_accuracy: 0.3353\n",
      "Epoch 6/100\n",
      "7479/7479 [==============================] - 0s 31us/step - loss: -3.1360 - accuracy: 0.3395 - val_loss: -8.7803 - val_accuracy: 0.3353\n",
      "Epoch 7/100\n",
      "7479/7479 [==============================] - 0s 32us/step - loss: -6.4253 - accuracy: 0.3395 - val_loss: -15.6403 - val_accuracy: 0.3353\n",
      "Epoch 8/100\n",
      "7479/7479 [==============================] - 0s 31us/step - loss: -12.2881 - accuracy: 0.3395 - val_loss: -27.3660 - val_accuracy: 0.3353\n",
      "Epoch 9/100\n",
      "7479/7479 [==============================] - 0s 30us/step - loss: -19.4745 - accuracy: 0.3395 - val_loss: -44.1971 - val_accuracy: 0.3353\n",
      "Epoch 10/100\n",
      "7479/7479 [==============================] - 0s 36us/step - loss: -33.6603 - accuracy: 0.3395 - val_loss: -69.3845 - val_accuracy: 0.3353\n",
      "Epoch 11/100\n",
      "7479/7479 [==============================] - 0s 34us/step - loss: -47.0763 - accuracy: 0.3396 - val_loss: -104.2190 - val_accuracy: 0.3353\n",
      "Epoch 12/100\n",
      "7479/7479 [==============================] - 0s 35us/step - loss: -82.8517 - accuracy: 0.3398 - val_loss: -160.8608 - val_accuracy: 0.3358\n",
      "Epoch 13/100\n",
      "7479/7479 [==============================] - 0s 35us/step - loss: -112.7368 - accuracy: 0.3396 - val_loss: -226.8878 - val_accuracy: 0.3358\n",
      "Epoch 14/100\n",
      "7479/7479 [==============================] - 0s 35us/step - loss: -157.4049 - accuracy: 0.3396 - val_loss: -307.4179 - val_accuracy: 0.3353\n",
      "Epoch 15/100\n",
      "7479/7479 [==============================] - 0s 29us/step - loss: -226.7489 - accuracy: 0.3398 - val_loss: -423.9457 - val_accuracy: 0.3342\n",
      "Epoch 16/100\n",
      "7479/7479 [==============================] - 0s 33us/step - loss: -306.2418 - accuracy: 0.3396 - val_loss: -564.4681 - val_accuracy: 0.3342\n",
      "Epoch 17/100\n",
      "7479/7479 [==============================] - 0s 32us/step - loss: -404.6343 - accuracy: 0.3400 - val_loss: -741.2042 - val_accuracy: 0.3342\n",
      "Epoch 18/100\n",
      "7479/7479 [==============================] - 0s 31us/step - loss: -516.0831 - accuracy: 0.3396 - val_loss: -953.7371 - val_accuracy: 0.3342\n",
      "Epoch 19/100\n",
      "7479/7479 [==============================] - 0s 33us/step - loss: -685.8619 - accuracy: 0.3396 - val_loss: -1233.4585 - val_accuracy: 0.3342\n",
      "Epoch 20/100\n",
      "7479/7479 [==============================] - 0s 33us/step - loss: -906.1851 - accuracy: 0.3392 - val_loss: -1580.1998 - val_accuracy: 0.3337\n",
      "Epoch 21/100\n",
      "7479/7479 [==============================] - 0s 31us/step - loss: -1073.1170 - accuracy: 0.3414 - val_loss: -1941.5534 - val_accuracy: 0.3326\n",
      "Epoch 22/100\n",
      "7479/7479 [==============================] - 0s 32us/step - loss: -1306.5195 - accuracy: 0.3403 - val_loss: -2398.8473 - val_accuracy: 0.3337\n",
      "Epoch 23/100\n",
      "7479/7479 [==============================] - 0s 31us/step - loss: -1724.1276 - accuracy: 0.3411 - val_loss: -2978.3250 - val_accuracy: 0.3348\n",
      "Epoch 24/100\n",
      "7479/7479 [==============================] - 0s 31us/step - loss: -2081.9014 - accuracy: 0.3403 - val_loss: -3629.3950 - val_accuracy: 0.3353\n",
      "Epoch 25/100\n",
      "7479/7479 [==============================] - 0s 32us/step - loss: -2468.5933 - accuracy: 0.3398 - val_loss: -4366.9884 - val_accuracy: 0.3353\n",
      "Epoch 26/100\n",
      "7479/7479 [==============================] - 0s 32us/step - loss: -2930.3696 - accuracy: 0.3395 - val_loss: -5181.2101 - val_accuracy: 0.3353\n",
      "Epoch 27/100\n",
      "7479/7479 [==============================] - 0s 34us/step - loss: -3635.3395 - accuracy: 0.3403 - val_loss: -6202.0456 - val_accuracy: 0.3353\n",
      "Epoch 28/100\n",
      "7479/7479 [==============================] - 0s 33us/step - loss: -4285.3877 - accuracy: 0.3398 - val_loss: -7332.1207 - val_accuracy: 0.3353\n",
      "Epoch 29/100\n",
      "7479/7479 [==============================] - 0s 35us/step - loss: -5243.7050 - accuracy: 0.3387 - val_loss: -8742.4216 - val_accuracy: 0.3353\n",
      "Epoch 30/100\n",
      "7479/7479 [==============================] - 0s 33us/step - loss: -6128.7085 - accuracy: 0.3402 - val_loss: -10122.9477 - val_accuracy: 0.3353\n",
      "Epoch 31/100\n",
      "7479/7479 [==============================] - 0s 32us/step - loss: -7020.2722 - accuracy: 0.3398 - val_loss: -11759.0874 - val_accuracy: 0.3353\n",
      "Epoch 32/100\n",
      "7479/7479 [==============================] - 0s 33us/step - loss: -8192.4976 - accuracy: 0.3395 - val_loss: -13526.0147 - val_accuracy: 0.3353\n",
      "Epoch 33/100\n",
      "7479/7479 [==============================] - 0s 31us/step - loss: -8935.5550 - accuracy: 0.3394 - val_loss: -15385.3640 - val_accuracy: 0.3353\n",
      "Epoch 34/100\n",
      "7479/7479 [==============================] - 0s 30us/step - loss: -9840.9956 - accuracy: 0.3404 - val_loss: -17417.0672 - val_accuracy: 0.3353\n",
      "Epoch 35/100\n",
      "7479/7479 [==============================] - 0s 31us/step - loss: -11871.4558 - accuracy: 0.3402 - val_loss: -19835.4938 - val_accuracy: 0.3353\n",
      "Epoch 36/100\n",
      "7479/7479 [==============================] - 0s 31us/step - loss: -12966.5344 - accuracy: 0.3388 - val_loss: -22394.9895 - val_accuracy: 0.3353\n",
      "Epoch 37/100\n",
      "7479/7479 [==============================] - 0s 31us/step - loss: -15430.8130 - accuracy: 0.3394 - val_loss: -25456.3602 - val_accuracy: 0.3353\n",
      "Epoch 38/100\n",
      "7479/7479 [==============================] - 0s 33us/step - loss: -17330.5173 - accuracy: 0.3402 - val_loss: -28590.4983 - val_accuracy: 0.3353\n",
      "Epoch 39/100\n",
      "7479/7479 [==============================] - 0s 33us/step - loss: -19603.6407 - accuracy: 0.3400 - val_loss: -32302.0522 - val_accuracy: 0.3353\n",
      "Epoch 40/100\n",
      "7479/7479 [==============================] - 0s 33us/step - loss: -22053.9830 - accuracy: 0.3403 - val_loss: -36384.7629 - val_accuracy: 0.3353\n",
      "Epoch 41/100\n",
      "7479/7479 [==============================] - 0s 34us/step - loss: -25466.7964 - accuracy: 0.3394 - val_loss: -40524.3869 - val_accuracy: 0.3353\n",
      "Epoch 42/100\n",
      "7479/7479 [==============================] - 0s 35us/step - loss: -27754.4993 - accuracy: 0.3395 - val_loss: -45169.3146 - val_accuracy: 0.3353\n",
      "Epoch 43/100\n",
      "7479/7479 [==============================] - 0s 34us/step - loss: -31729.6918 - accuracy: 0.3392 - val_loss: -50218.7183 - val_accuracy: 0.3353\n",
      "Epoch 44/100\n",
      "7479/7479 [==============================] - 0s 34us/step - loss: -34390.8179 - accuracy: 0.3399 - val_loss: -55551.3756 - val_accuracy: 0.3353\n",
      "Epoch 45/100\n",
      "7479/7479 [==============================] - 0s 33us/step - loss: -36783.5680 - accuracy: 0.3402 - val_loss: -61233.8660 - val_accuracy: 0.3353\n",
      "Epoch 46/100\n",
      "7479/7479 [==============================] - 0s 34us/step - loss: -41760.8592 - accuracy: 0.3398 - val_loss: -67850.4927 - val_accuracy: 0.3353\n",
      "Epoch 47/100\n",
      "7479/7479 [==============================] - 0s 33us/step - loss: -42528.4124 - accuracy: 0.3398 - val_loss: -73823.7519 - val_accuracy: 0.3353\n",
      "Epoch 48/100\n"
     ]
    },
    {
     "name": "stdout",
     "output_type": "stream",
     "text": [
      "7479/7479 [==============================] - 0s 33us/step - loss: -48711.1262 - accuracy: 0.3403 - val_loss: -80855.2690 - val_accuracy: 0.3353\n",
      "Epoch 49/100\n",
      "7479/7479 [==============================] - 0s 34us/step - loss: -54041.6844 - accuracy: 0.3402 - val_loss: -88430.1585 - val_accuracy: 0.3353\n",
      "Epoch 50/100\n",
      "7479/7479 [==============================] - 0s 33us/step - loss: -59480.0043 - accuracy: 0.3394 - val_loss: -95892.7251 - val_accuracy: 0.3353\n",
      "Epoch 51/100\n",
      "7479/7479 [==============================] - 0s 34us/step - loss: -65786.1693 - accuracy: 0.3391 - val_loss: -104531.9721 - val_accuracy: 0.3353\n",
      "Epoch 52/100\n",
      "7479/7479 [==============================] - 0s 30us/step - loss: -65816.7288 - accuracy: 0.3399 - val_loss: -112687.4018 - val_accuracy: 0.3353\n",
      "Epoch 53/100\n",
      "7479/7479 [==============================] - 0s 29us/step - loss: -71397.6967 - accuracy: 0.3391 - val_loss: -121512.3111 - val_accuracy: 0.3353\n",
      "Epoch 54/100\n",
      "7479/7479 [==============================] - 0s 32us/step - loss: -83413.8427 - accuracy: 0.3400 - val_loss: -131495.9845 - val_accuracy: 0.3353\n",
      "Epoch 55/100\n",
      "7479/7479 [==============================] - 0s 31us/step - loss: -80572.3879 - accuracy: 0.3389 - val_loss: -141844.6027 - val_accuracy: 0.3353\n",
      "Epoch 56/100\n",
      "7479/7479 [==============================] - 0s 33us/step - loss: -94623.6970 - accuracy: 0.3395 - val_loss: -152738.3764 - val_accuracy: 0.3353\n",
      "Epoch 57/100\n",
      "7479/7479 [==============================] - 0s 35us/step - loss: -102216.5822 - accuracy: 0.3403 - val_loss: -164498.9765 - val_accuracy: 0.3353\n",
      "Epoch 58/100\n",
      "7479/7479 [==============================] - 0s 40us/step - loss: -113332.6951 - accuracy: 0.3399 - val_loss: -177256.0427 - val_accuracy: 0.3353\n",
      "Epoch 59/100\n",
      "7479/7479 [==============================] - 0s 40us/step - loss: -120865.3845 - accuracy: 0.3399 - val_loss: -190811.0981 - val_accuracy: 0.3353\n",
      "Epoch 60/100\n",
      "7479/7479 [==============================] - 0s 45us/step - loss: -121840.1204 - accuracy: 0.3394 - val_loss: -203350.2186 - val_accuracy: 0.3353\n",
      "Epoch 61/100\n",
      "7479/7479 [==============================] - 0s 42us/step - loss: -131612.7795 - accuracy: 0.3394 - val_loss: -217235.9184 - val_accuracy: 0.3353\n",
      "Epoch 62/100\n",
      "7479/7479 [==============================] - 0s 41us/step - loss: -140745.3270 - accuracy: 0.3391 - val_loss: -231774.8235 - val_accuracy: 0.3353\n",
      "Epoch 63/100\n",
      "7479/7479 [==============================] - 0s 36us/step - loss: -154739.4984 - accuracy: 0.3407 - val_loss: -248444.1271 - val_accuracy: 0.3353\n",
      "Epoch 64/100\n",
      "7479/7479 [==============================] - 0s 44us/step - loss: -169338.8102 - accuracy: 0.3394 - val_loss: -265456.6131 - val_accuracy: 0.3353\n",
      "Epoch 65/100\n",
      "7479/7479 [==============================] - 0s 41us/step - loss: -179161.2734 - accuracy: 0.3403 - val_loss: -282518.8523 - val_accuracy: 0.3353\n",
      "Epoch 66/100\n",
      "7479/7479 [==============================] - 0s 46us/step - loss: -194925.6900 - accuracy: 0.3380 - val_loss: -301584.7432 - val_accuracy: 0.3353\n",
      "Epoch 67/100\n",
      "7479/7479 [==============================] - 0s 42us/step - loss: -192600.9790 - accuracy: 0.3396 - val_loss: -321070.3952 - val_accuracy: 0.3353\n",
      "Epoch 68/100\n",
      "7479/7479 [==============================] - 0s 40us/step - loss: -214990.6155 - accuracy: 0.3395 - val_loss: -344658.8845 - val_accuracy: 0.3353\n",
      "Epoch 69/100\n",
      "7479/7479 [==============================] - 0s 44us/step - loss: -235348.2374 - accuracy: 0.3389 - val_loss: -367803.0525 - val_accuracy: 0.3353\n",
      "Epoch 70/100\n",
      "7479/7479 [==============================] - 0s 38us/step - loss: -253812.7814 - accuracy: 0.3403 - val_loss: -394694.7692 - val_accuracy: 0.3353\n",
      "Epoch 71/100\n",
      "7479/7479 [==============================] - 0s 41us/step - loss: -264706.9120 - accuracy: 0.3398 - val_loss: -420452.2375 - val_accuracy: 0.3353\n",
      "Epoch 72/100\n",
      "7479/7479 [==============================] - 0s 36us/step - loss: -272632.3076 - accuracy: 0.3407 - val_loss: -444213.8735 - val_accuracy: 0.3353\n",
      "Epoch 73/100\n",
      "7479/7479 [==============================] - 0s 38us/step - loss: -294759.0795 - accuracy: 0.3395 - val_loss: -469945.8934 - val_accuracy: 0.3353\n",
      "Epoch 74/100\n",
      "7479/7479 [==============================] - 0s 42us/step - loss: -302529.6266 - accuracy: 0.3403 - val_loss: -498314.0337 - val_accuracy: 0.3353\n",
      "Epoch 75/100\n",
      "7479/7479 [==============================] - 0s 48us/step - loss: -325837.5412 - accuracy: 0.3400 - val_loss: -524733.8272 - val_accuracy: 0.3353\n",
      "Epoch 76/100\n",
      "7479/7479 [==============================] - 0s 37us/step - loss: -342279.5415 - accuracy: 0.3398 - val_loss: -553989.1905 - val_accuracy: 0.3353\n",
      "Epoch 77/100\n",
      "7479/7479 [==============================] - 0s 36us/step - loss: -362076.3568 - accuracy: 0.3412 - val_loss: -585121.0633 - val_accuracy: 0.3353\n",
      "Epoch 78/100\n",
      "7479/7479 [==============================] - 0s 36us/step - loss: -380818.8711 - accuracy: 0.3402 - val_loss: -616921.5677 - val_accuracy: 0.3353\n",
      "Epoch 79/100\n",
      "7479/7479 [==============================] - 0s 34us/step - loss: -415370.7348 - accuracy: 0.3400 - val_loss: -653740.7513 - val_accuracy: 0.3353\n",
      "Epoch 80/100\n",
      "7479/7479 [==============================] - 0s 33us/step - loss: -434413.6034 - accuracy: 0.3395 - val_loss: -686874.4044 - val_accuracy: 0.3353\n",
      "Epoch 81/100\n",
      "7479/7479 [==============================] - 0s 33us/step - loss: -464168.1928 - accuracy: 0.3394 - val_loss: -725763.3734 - val_accuracy: 0.3353\n",
      "Epoch 82/100\n",
      "7479/7479 [==============================] - 0s 34us/step - loss: -471352.0005 - accuracy: 0.3396 - val_loss: -763583.5589 - val_accuracy: 0.3353\n",
      "Epoch 83/100\n",
      "7479/7479 [==============================] - 0s 33us/step - loss: -496547.4731 - accuracy: 0.3387 - val_loss: -804902.4291 - val_accuracy: 0.3353\n",
      "Epoch 84/100\n",
      "7479/7479 [==============================] - 0s 35us/step - loss: -509128.0294 - accuracy: 0.3402 - val_loss: -843482.4263 - val_accuracy: 0.3353\n",
      "Epoch 85/100\n",
      "7479/7479 [==============================] - 0s 33us/step - loss: -593823.8516 - accuracy: 0.3398 - val_loss: -892351.5747 - val_accuracy: 0.3353\n",
      "Epoch 86/100\n",
      "7479/7479 [==============================] - 0s 30us/step - loss: -594645.0474 - accuracy: 0.3402 - val_loss: -938679.6009 - val_accuracy: 0.3353\n",
      "Epoch 87/100\n",
      "7479/7479 [==============================] - 0s 31us/step - loss: -601622.9656 - accuracy: 0.3391 - val_loss: -984593.3844 - val_accuracy: 0.3353\n",
      "Epoch 88/100\n",
      "7479/7479 [==============================] - 0s 34us/step - loss: -645563.5344 - accuracy: 0.3394 - val_loss: -1033609.9885 - val_accuracy: 0.3353\n",
      "Epoch 89/100\n",
      "7479/7479 [==============================] - 0s 31us/step - loss: -700042.1476 - accuracy: 0.3395 - val_loss: -1084116.1699 - val_accuracy: 0.3353\n",
      "Epoch 90/100\n",
      "7479/7479 [==============================] - 0s 35us/step - loss: -724504.9311 - accuracy: 0.3408 - val_loss: -1137737.2804 - val_accuracy: 0.3353\n",
      "Epoch 91/100\n",
      "7479/7479 [==============================] - 0s 36us/step - loss: -715079.1006 - accuracy: 0.3398 - val_loss: -1188203.4662 - val_accuracy: 0.3353\n",
      "Epoch 92/100\n",
      "7479/7479 [==============================] - 0s 35us/step - loss: -784228.4177 - accuracy: 0.3407 - val_loss: -1246975.1235 - val_accuracy: 0.3353\n",
      "Epoch 93/100\n",
      "7479/7479 [==============================] - 0s 33us/step - loss: -837124.7746 - accuracy: 0.3399 - val_loss: -1310571.6901 - val_accuracy: 0.3353\n",
      "Epoch 94/100\n",
      "7479/7479 [==============================] - 0s 32us/step - loss: -835928.3059 - accuracy: 0.3399 - val_loss: -1361742.4622 - val_accuracy: 0.3353\n",
      "Epoch 95/100\n",
      "7479/7479 [==============================] - 0s 30us/step - loss: -879555.0753 - accuracy: 0.3392 - val_loss: -1421038.2651 - val_accuracy: 0.3353\n",
      "Epoch 96/100\n",
      "7479/7479 [==============================] - 0s 31us/step - loss: -974039.9888 - accuracy: 0.3398 - val_loss: -1484611.2884 - val_accuracy: 0.3353\n",
      "Epoch 97/100\n",
      "7479/7479 [==============================] - 0s 31us/step - loss: -993202.6843 - accuracy: 0.3395 - val_loss: -1545789.9747 - val_accuracy: 0.3353\n",
      "Epoch 98/100\n",
      "7479/7479 [==============================] - 0s 31us/step - loss: -1073156.3021 - accuracy: 0.3396 - val_loss: -1616834.9450 - val_accuracy: 0.3353\n",
      "Epoch 99/100\n"
     ]
    },
    {
     "name": "stdout",
     "output_type": "stream",
     "text": [
      "7479/7479 [==============================] - 0s 31us/step - loss: -1058389.1367 - accuracy: 0.3404 - val_loss: -1692679.2524 - val_accuracy: 0.3353\n",
      "Epoch 100/100\n",
      "7479/7479 [==============================] - 0s 29us/step - loss: -1126742.9720 - accuracy: 0.3398 - val_loss: -1764555.8211 - val_accuracy: 0.3353\n",
      "{'val_loss': [-0.2904539117440183, -0.6078656224962224, -1.1800640932817192, -2.4104530288773107, -4.312272385639303, -8.780329867799015, -15.640267057852311, -27.365990292898474, -44.197142787795656, -69.38446962642159, -104.21902398247133, -160.8608177205458, -226.88784626078478, -307.4179328367672, -423.94574342564465, -564.4681044058366, -741.2042131347453, -953.7371183487184, -1233.458542288306, -1580.1997732478667, -1941.5534286295028, -2398.8472941597515, -2978.3250245690983, -3629.3949579249092, -4366.988407889789, -5181.210149102032, -6202.045590732187, -7332.120653448258, -8742.421630696179, -10122.947744767296, -11759.087386676973, -13526.0146781391, -15385.36402313722, -17417.067240505934, -19835.493847525693, -22394.989452341662, -25456.360211377476, -28590.49833866874, -32302.052155030604, -36384.76293586282, -40524.38688390395, -45169.314610445566, -50218.71831589969, -55551.3756423379, -61233.8659622274, -67850.49265032273, -73823.75186695773, -80855.26903578814, -88430.15852233561, -95892.72505457261, -104531.97206482913, -112687.40176538477, -121512.31110174005, -131495.98453297335, -141844.60269768862, -152738.37641653785, -164498.97652072192, -177256.04273244276, -190811.09805183613, -203350.21864033255, -217235.9184478923, -231774.82345499456, -248444.12709412602, -265456.6130880264, -282518.85228186625, -301584.74319278495, -321070.39518272685, -344658.88454367896, -367803.0525294013, -394694.7692048588, -420452.2375057445, -444213.8734842392, -469945.8933980197, -498314.0336966285, -524733.8271836877, -553989.1905132437, -585121.0633133668, -616921.567717037, -653740.7512912037, -686874.4044150286, -725763.3733549883, -763583.5589318913, -804902.4291326349, -843482.4263113093, -892351.574701809, -938679.6008809952, -984593.3844392338, -1033609.9885404046, -1084116.1698825448, -1137737.280427494, -1188203.4661630234, -1246975.1235162255, -1310571.6900732683, -1361742.4622260926, -1421038.265132802, -1484611.2883509672, -1545789.974723612, -1616834.944952164, -1692679.2524466284, -1764555.8211454505], 'val_accuracy': [0.33529412746429443, 0.33529412746429443, 0.33529412746429443, 0.33529412746429443, 0.33529412746429443, 0.33529412746429443, 0.33529412746429443, 0.33529412746429443, 0.33529412746429443, 0.33529412746429443, 0.33529412746429443, 0.33582887053489685, 0.33582887053489685, 0.33529412746429443, 0.3342246115207672, 0.3342246115207672, 0.3342246115207672, 0.3342246115207672, 0.3342246115207672, 0.3336898386478424, 0.3326203227043152, 0.3336898386478424, 0.33475935459136963, 0.33529412746429443, 0.33529412746429443, 0.33529412746429443, 0.33529412746429443, 0.33529412746429443, 0.33529412746429443, 0.33529412746429443, 0.33529412746429443, 0.33529412746429443, 0.33529412746429443, 0.33529412746429443, 0.33529412746429443, 0.33529412746429443, 0.33529412746429443, 0.33529412746429443, 0.33529412746429443, 0.33529412746429443, 0.33529412746429443, 0.33529412746429443, 0.33529412746429443, 0.33529412746429443, 0.33529412746429443, 0.33529412746429443, 0.33529412746429443, 0.33529412746429443, 0.33529412746429443, 0.33529412746429443, 0.33529412746429443, 0.33529412746429443, 0.33529412746429443, 0.33529412746429443, 0.33529412746429443, 0.33529412746429443, 0.33529412746429443, 0.33529412746429443, 0.33529412746429443, 0.33529412746429443, 0.33529412746429443, 0.33529412746429443, 0.33529412746429443, 0.33529412746429443, 0.33529412746429443, 0.33529412746429443, 0.33529412746429443, 0.33529412746429443, 0.33529412746429443, 0.33529412746429443, 0.33529412746429443, 0.33529412746429443, 0.33529412746429443, 0.33529412746429443, 0.33529412746429443, 0.33529412746429443, 0.33529412746429443, 0.33529412746429443, 0.33529412746429443, 0.33529412746429443, 0.33529412746429443, 0.33529412746429443, 0.33529412746429443, 0.33529412746429443, 0.33529412746429443, 0.33529412746429443, 0.33529412746429443, 0.33529412746429443, 0.33529412746429443, 0.33529412746429443, 0.33529412746429443, 0.33529412746429443, 0.33529412746429443, 0.33529412746429443, 0.33529412746429443, 0.33529412746429443, 0.33529412746429443, 0.33529412746429443, 0.33529412746429443, 0.33529412746429443], 'loss': [0.13374820492525605, -0.13849791512690232, -0.34855961273030206, -0.7569763269262975, -1.4580416478408915, -3.1360047087058383, -6.4252521744751805, -12.288056698498389, -19.47446080123793, -33.66030041042026, -47.07634595040093, -82.85165376939912, -112.73678355772302, -157.40490116890078, -226.7488687254876, -306.24183405119874, -404.6343193745323, -516.0830507579534, -685.8618562292615, -906.1851068943766, -1073.1169583111114, -1306.5195179049354, -1724.1275850204977, -2081.9014403581227, -2468.5932871725076, -2930.3695767888858, -3635.33954664175, -4285.38767489808, -5243.704993599796, -6128.708540627625, -7020.27223979472, -8192.497566526117, -8935.555036014088, -9840.99564086245, -11871.455783324249, -12966.534410999235, -15430.812980638593, -17330.517269089127, -19603.64073573486, -22053.98302115226, -25466.79644481599, -27754.499303424753, -31729.69178065573, -34390.817937931286, -36783.56797882541, -41760.859211652, -42528.412440608445, -48711.126228872155, -54041.684384179345, -59480.0043351854, -65786.16933766678, -65816.7288375224, -71397.69666746577, -83413.84265687986, -80572.38790403494, -94623.69702791514, -102216.58221457581, -113332.69510850678, -120865.38453271374, -121840.12035607253, -131612.77950902501, -140745.32697536174, -154739.4983939732, -169338.81021247513, -179161.27338461755, -194925.68995191745, -192600.9790152009, -214990.61553116958, -235348.23744871057, -253812.78137084618, -264706.9120098777, -272632.3075598003, -294759.0795074516, -302529.62659796386, -325837.5411522053, -342279.5415324367, -362076.3568114745, -380818.8711109654, -415370.7347956766, -434413.60340307024, -464168.19283002825, -471352.0004528304, -496547.47310346575, -509128.02937698213, -593823.8516016721, -594645.0474095697, -601622.9656376395, -645563.5343653637, -700042.1475913809, -724504.9311269472, -715079.1005717049, -784228.4176859269, -837124.7746228502, -835928.3059001402, -879555.0753463865, -974039.9887836985, -993202.6843307093, -1073156.3021193717, -1058389.1366680872, -1126742.9719538437], 'accuracy': [0.34055355, 0.3394839, 0.3394839, 0.3394839, 0.3394839, 0.3394839, 0.3394839, 0.3394839, 0.3394839, 0.3394839, 0.3396176, 0.3397513, 0.3396176, 0.3396176, 0.3397513, 0.3396176, 0.34001872, 0.3396176, 0.3396176, 0.33921647, 0.3413558, 0.34028614, 0.34108838, 0.34028614, 0.3397513, 0.3394839, 0.34028614, 0.3397513, 0.33868164, 0.3401524, 0.3397513, 0.3394839, 0.3393502, 0.34041983, 0.3401524, 0.33881536, 0.3393502, 0.3401524, 0.34001872, 0.34028614, 0.3393502, 0.3394839, 0.33921647, 0.33988503, 0.3401524, 0.3397513, 0.3397513, 0.34028614, 0.3401524, 0.3393502, 0.33908278, 0.33988503, 0.33908278, 0.34001872, 0.33894905, 0.3394839, 0.34028614, 0.33988503, 0.33988503, 0.3393502, 0.3393502, 0.33908278, 0.34068725, 0.3393502, 0.34028614, 0.3380131, 0.3396176, 0.3394839, 0.33894905, 0.34028614, 0.3397513, 0.34068725, 0.3394839, 0.34028614, 0.34001872, 0.3397513, 0.34122208, 0.3401524, 0.34001872, 0.3394839, 0.3393502, 0.3396176, 0.33868164, 0.3401524, 0.3397513, 0.3401524, 0.33908278, 0.3393502, 0.3394839, 0.34082097, 0.3397513, 0.34068725, 0.33988503, 0.33988503, 0.33921647, 0.3397513, 0.3394839, 0.3396176, 0.34041983, 0.3397513]}\n"
     ]
    }
   ],
   "source": [
    "# Here I am buiding a simple sequential 3 layer ANN with a dropout of 0.1 and running over 100 epocs for 50 batch size\n",
    "# parallely measuring the validation score for 20% of data.\n",
    "\n",
    "inp = len(df_X.columns)\n",
    "classifier = Sequential()\n",
    "classifier.add(Dense(units = inp, kernel_initializer = 'uniform', activation = 'relu', input_dim = df_X.shape[1]))\n",
    "classifier.add(Dropout(0.1))\n",
    "classifier.add(Dense(units = inp*2, kernel_initializer = 'uniform', activation = 'relu'))\n",
    "classifier.add(Dropout(0.1))\n",
    "classifier.add(Dense(units = inp*3, kernel_initializer = 'uniform', activation = 'relu'))\n",
    "classifier.add(Dropout(0.1))\n",
    "classifier.add(Dense(units = 1, kernel_initializer = 'uniform', activation = 'sigmoid'))\n",
    "classifier.compile(optimizer = 'RMSProp', loss = 'binary_crossentropy', metrics = ['accuracy'])\n",
    "model_hist = classifier.fit(df_X, df_y, batch_size = 50, epochs = 100, validation_split=0.2)\n",
    "print(model_hist.history)"
   ]
  },
  {
   "cell_type": "code",
   "execution_count": 48,
   "metadata": {},
   "outputs": [
    {
     "data": {
      "image/png": "[encoded data removed]",
      "text/plain": [
       "<Figure size 1296x432 with 1 Axes>"
      ]
     },
     "metadata": {
      "needs_background": "light"
     },
     "output_type": "display_data"
    },
    {
     "data": {
      "image/png": "[encoded data removed]",
      "text/plain": [
       "<Figure size 1296x432 with 1 Axes>"
      ]
     },
     "metadata": {
      "needs_background": "light"
     },
     "output_type": "display_data"
    }
   ],
   "source": [
    "# here I am plotting the curves for training and testing performance based on model's history.\n",
    "# evaluating the accuracy for train and val, and loss for train and val data.\n",
    "show_learning_curve(model_hist, 'sequential_model_performance')"
   ]
  },
  {
   "cell_type": "markdown",
   "metadata": {},
   "source": [
    "#### Bidirectional LSTM Network"
   ]
  },
  {
   "cell_type": "code",
   "execution_count": 49,
   "metadata": {},
   "outputs": [
    {
     "name": "stdout",
     "output_type": "stream",
     "text": [
      "Train on 7479 samples, validate on 1870 samples\n",
      "Epoch 1/100\n",
      "7479/7479 [==============================] - 2s 304us/step - loss: 0.1303 - accuracy: 0.3389 - val_loss: -0.0645 - val_accuracy: 0.3353\n",
      "Epoch 2/100\n",
      "7479/7479 [==============================] - 2s 233us/step - loss: 0.0228 - accuracy: 0.3395 - val_loss: -0.2622 - val_accuracy: 0.3353\n",
      "Epoch 3/100\n",
      "7479/7479 [==============================] - 2s 234us/step - loss: -0.6392 - accuracy: 0.3395 - val_loss: -1.4899 - val_accuracy: 0.3353\n",
      "Epoch 4/100\n",
      "7479/7479 [==============================] - 2s 234us/step - loss: -2.2252 - accuracy: 0.3395 - val_loss: -3.9997 - val_accuracy: 0.3353\n",
      "Epoch 5/100\n",
      "7479/7479 [==============================] - 2s 239us/step - loss: -4.5819 - accuracy: 0.3395 - val_loss: -7.1957 - val_accuracy: 0.3353\n",
      "Epoch 6/100\n",
      "7479/7479 [==============================] - 2s 233us/step - loss: -8.3715 - accuracy: 0.3395 - val_loss: -12.6719 - val_accuracy: 0.3353\n",
      "Epoch 7/100\n",
      "7479/7479 [==============================] - 2s 237us/step - loss: -13.8036 - accuracy: 0.3395 - val_loss: -18.2411 - val_accuracy: 0.3353\n",
      "Epoch 8/100\n",
      "7479/7479 [==============================] - 2s 237us/step - loss: -21.0423 - accuracy: 0.3395 - val_loss: -26.6030 - val_accuracy: 0.3353\n",
      "Epoch 9/100\n",
      "7479/7479 [==============================] - 2s 243us/step - loss: -28.5183 - accuracy: 0.3395 - val_loss: -35.0932 - val_accuracy: 0.3353\n",
      "Epoch 10/100\n",
      "7479/7479 [==============================] - 2s 231us/step - loss: -37.3722 - accuracy: 0.3395 - val_loss: -44.1178 - val_accuracy: 0.3353\n",
      "Epoch 11/100\n",
      "7479/7479 [==============================] - 2s 219us/step - loss: -47.5145 - accuracy: 0.3395 - val_loss: -52.6906 - val_accuracy: 0.3353\n",
      "Epoch 12/100\n",
      "7479/7479 [==============================] - 2s 244us/step - loss: -57.9117 - accuracy: 0.3395 - val_loss: -65.9439 - val_accuracy: 0.3353\n",
      "Epoch 13/100\n",
      "7479/7479 [==============================] - 2s 250us/step - loss: -69.1424 - accuracy: 0.3395 - val_loss: -74.8090 - val_accuracy: 0.3358\n",
      "Epoch 14/100\n",
      "7479/7479 [==============================] - 2s 235us/step - loss: -81.5819 - accuracy: 0.3402 - val_loss: -87.7354 - val_accuracy: 0.3364\n",
      "Epoch 15/100\n",
      "7479/7479 [==============================] - 2s 227us/step - loss: -97.0962 - accuracy: 0.3426 - val_loss: -100.0583 - val_accuracy: 0.3358\n",
      "Epoch 16/100\n",
      "7479/7479 [==============================] - 2s 231us/step - loss: -111.2834 - accuracy: 0.3420 - val_loss: -110.9423 - val_accuracy: 0.3358\n",
      "Epoch 17/100\n",
      "7479/7479 [==============================] - 2s 250us/step - loss: -125.9469 - accuracy: 0.3416 - val_loss: -125.4051 - val_accuracy: 0.3369\n",
      "Epoch 18/100\n",
      "7479/7479 [==============================] - 2s 229us/step - loss: -141.4176 - accuracy: 0.3420 - val_loss: -141.2859 - val_accuracy: 0.3358\n",
      "Epoch 19/100\n",
      "7479/7479 [==============================] - 2s 225us/step - loss: -154.0298 - accuracy: 0.3410 - val_loss: -154.5254 - val_accuracy: 0.3353\n",
      "Epoch 20/100\n",
      "7479/7479 [==============================] - 2s 222us/step - loss: -174.1548 - accuracy: 0.3412 - val_loss: -173.5320 - val_accuracy: 0.3385\n",
      "Epoch 21/100\n",
      "7479/7479 [==============================] - 2s 224us/step - loss: -194.0435 - accuracy: 0.3415 - val_loss: -188.0448 - val_accuracy: 0.3353\n",
      "Epoch 22/100\n",
      "7479/7479 [==============================] - 2s 233us/step - loss: -217.5131 - accuracy: 0.3410 - val_loss: -202.4157 - val_accuracy: 0.3358\n",
      "Epoch 23/100\n",
      "7479/7479 [==============================] - 2s 238us/step - loss: -238.4611 - accuracy: 0.3418 - val_loss: -222.6937 - val_accuracy: 0.3364\n",
      "Epoch 24/100\n",
      "7479/7479 [==============================] - 2s 230us/step - loss: -248.3760 - accuracy: 0.3432 - val_loss: -239.7747 - val_accuracy: 0.3380\n",
      "Epoch 25/100\n",
      "7479/7479 [==============================] - 2s 234us/step - loss: -271.0244 - accuracy: 0.3448 - val_loss: -261.1049 - val_accuracy: 0.3401\n",
      "Epoch 26/100\n",
      "7479/7479 [==============================] - 2s 226us/step - loss: -305.8213 - accuracy: 0.3463 - val_loss: -282.0425 - val_accuracy: 0.3374\n",
      "Epoch 27/100\n",
      "7479/7479 [==============================] - 2s 224us/step - loss: -308.6378 - accuracy: 0.3471 - val_loss: -296.4490 - val_accuracy: 0.3449\n",
      "Epoch 28/100\n",
      "7479/7479 [==============================] - 2s 227us/step - loss: -333.7677 - accuracy: 0.3491 - val_loss: -318.4782 - val_accuracy: 0.3487\n",
      "Epoch 29/100\n",
      "7479/7479 [==============================] - 2s 225us/step - loss: -368.8771 - accuracy: 0.3488 - val_loss: -350.6921 - val_accuracy: 0.3444\n",
      "Epoch 30/100\n",
      "7479/7479 [==============================] - 2s 227us/step - loss: -401.4225 - accuracy: 0.3496 - val_loss: -371.9467 - val_accuracy: 0.3380\n",
      "Epoch 31/100\n",
      "7479/7479 [==============================] - 2s 226us/step - loss: -425.5028 - accuracy: 0.3510 - val_loss: -398.9655 - val_accuracy: 0.3412\n",
      "Epoch 32/100\n",
      "7479/7479 [==============================] - 2s 225us/step - loss: -458.0392 - accuracy: 0.3495 - val_loss: -410.2994 - val_accuracy: 0.3369\n",
      "Epoch 33/100\n",
      "7479/7479 [==============================] - 2s 231us/step - loss: -494.8568 - accuracy: 0.3444 - val_loss: -447.9152 - val_accuracy: 0.3369\n",
      "Epoch 34/100\n",
      "7479/7479 [==============================] - 2s 230us/step - loss: -518.2871 - accuracy: 0.3464 - val_loss: -462.2152 - val_accuracy: 0.3374\n",
      "Epoch 35/100\n",
      "7479/7479 [==============================] - 2s 234us/step - loss: -554.8741 - accuracy: 0.3471 - val_loss: -488.5294 - val_accuracy: 0.3369\n",
      "Epoch 36/100\n",
      "7479/7479 [==============================] - 2s 235us/step - loss: -585.1213 - accuracy: 0.3478 - val_loss: -505.0451 - val_accuracy: 0.3374\n",
      "Epoch 37/100\n",
      "7479/7479 [==============================] - 2s 236us/step - loss: -625.0190 - accuracy: 0.3484 - val_loss: -527.5148 - val_accuracy: 0.3342\n",
      "Epoch 38/100\n",
      "7479/7479 [==============================] - 2s 234us/step - loss: -660.3026 - accuracy: 0.3472 - val_loss: -550.9893 - val_accuracy: 0.3369\n",
      "Epoch 39/100\n",
      "7479/7479 [==============================] - 2s 240us/step - loss: -676.7719 - accuracy: 0.3514 - val_loss: -582.8899 - val_accuracy: 0.3422\n",
      "Epoch 40/100\n",
      "7479/7479 [==============================] - 2s 240us/step - loss: -721.0568 - accuracy: 0.3547 - val_loss: -605.2748 - val_accuracy: 0.3417\n",
      "Epoch 41/100\n",
      "7479/7479 [==============================] - 2s 243us/step - loss: -761.9543 - accuracy: 0.3547 - val_loss: -610.7513 - val_accuracy: 0.3471\n",
      "Epoch 42/100\n",
      "7479/7479 [==============================] - 2s 261us/step - loss: -803.7196 - accuracy: 0.3545 - val_loss: -646.5798 - val_accuracy: 0.3390\n",
      "Epoch 43/100\n",
      "7479/7479 [==============================] - 2s 269us/step - loss: -844.3885 - accuracy: 0.3541 - val_loss: -688.0394 - val_accuracy: 0.3406\n",
      "Epoch 44/100\n",
      "7479/7479 [==============================] - 2s 276us/step - loss: -894.5538 - accuracy: 0.3551 - val_loss: -708.5403 - val_accuracy: 0.3401\n",
      "Epoch 45/100\n",
      "7479/7479 [==============================] - 2s 263us/step - loss: -925.7383 - accuracy: 0.3549 - val_loss: -759.9525 - val_accuracy: 0.3396\n",
      "Epoch 46/100\n",
      "7479/7479 [==============================] - 2s 263us/step - loss: -974.1550 - accuracy: 0.3542 - val_loss: -784.1237 - val_accuracy: 0.3374\n",
      "Epoch 47/100\n",
      "7479/7479 [==============================] - 2s 280us/step - loss: -1027.3897 - accuracy: 0.3543 - val_loss: -819.8860 - val_accuracy: 0.3412\n",
      "Epoch 48/100\n",
      "7479/7479 [==============================] - 2s 266us/step - loss: -1077.7008 - accuracy: 0.3551 - val_loss: -852.7975 - val_accuracy: 0.3406\n",
      "Epoch 49/100\n",
      "7479/7479 [==============================] - 2s 235us/step - loss: -1119.7510 - accuracy: 0.3541 - val_loss: -869.6038 - val_accuracy: 0.3428\n",
      "Epoch 50/100\n",
      "7479/7479 [==============================] - 2s 234us/step - loss: -1179.3235 - accuracy: 0.3557 - val_loss: -913.4346 - val_accuracy: 0.3396\n",
      "Epoch 51/100\n",
      "7479/7479 [==============================] - 2s 234us/step - loss: -1229.0019 - accuracy: 0.3525 - val_loss: -943.4402 - val_accuracy: 0.3433\n",
      "Epoch 52/100\n",
      "7479/7479 [==============================] - 2s 235us/step - loss: -1227.6716 - accuracy: 0.3570 - val_loss: -1008.7497 - val_accuracy: 0.3422\n",
      "Epoch 53/100\n",
      "7479/7479 [==============================] - 2s 270us/step - loss: -1295.5822 - accuracy: 0.3593 - val_loss: -1021.7006 - val_accuracy: 0.3508\n",
      "Epoch 54/100\n"
     ]
    },
    {
     "name": "stdout",
     "output_type": "stream",
     "text": [
      "7479/7479 [==============================] - 2s 231us/step - loss: -1372.5139 - accuracy: 0.3581 - val_loss: -1061.7733 - val_accuracy: 0.3476\n",
      "Epoch 55/100\n",
      "7479/7479 [==============================] - 2s 226us/step - loss: -1411.6715 - accuracy: 0.3579 - val_loss: -1135.4168 - val_accuracy: 0.3396\n",
      "Epoch 56/100\n",
      "7479/7479 [==============================] - 2s 223us/step - loss: -1459.2419 - accuracy: 0.3586 - val_loss: -1134.8482 - val_accuracy: 0.3412\n",
      "Epoch 57/100\n",
      "7479/7479 [==============================] - 2s 223us/step - loss: -1525.3593 - accuracy: 0.3573 - val_loss: -1157.7455 - val_accuracy: 0.3455\n",
      "Epoch 58/100\n",
      "7479/7479 [==============================] - 2s 225us/step - loss: -1586.2732 - accuracy: 0.3554 - val_loss: -1198.8291 - val_accuracy: 0.3481\n",
      "Epoch 59/100\n",
      "7479/7479 [==============================] - 2s 225us/step - loss: -1654.6110 - accuracy: 0.3585 - val_loss: -1222.8994 - val_accuracy: 0.3476\n",
      "Epoch 60/100\n",
      "7479/7479 [==============================] - 2s 226us/step - loss: -1727.2115 - accuracy: 0.3603 - val_loss: -1229.0185 - val_accuracy: 0.3439\n",
      "Epoch 61/100\n",
      "7479/7479 [==============================] - 2s 222us/step - loss: -1785.5870 - accuracy: 0.3601 - val_loss: -1292.5319 - val_accuracy: 0.3444\n",
      "Epoch 62/100\n",
      "7479/7479 [==============================] - 2s 228us/step - loss: -1815.2309 - accuracy: 0.3591 - val_loss: -1380.9255 - val_accuracy: 0.3439\n",
      "Epoch 63/100\n",
      "7479/7479 [==============================] - 2s 231us/step - loss: -1867.9386 - accuracy: 0.3595 - val_loss: -1383.6199 - val_accuracy: 0.3471\n",
      "Epoch 64/100\n",
      "7479/7479 [==============================] - 2s 224us/step - loss: -1961.7467 - accuracy: 0.3597 - val_loss: -1410.4416 - val_accuracy: 0.3503\n",
      "Epoch 65/100\n",
      "7479/7479 [==============================] - 2s 221us/step - loss: -2039.0956 - accuracy: 0.3607 - val_loss: -1449.0710 - val_accuracy: 0.3492\n",
      "Epoch 66/100\n",
      "7479/7479 [==============================] - 2s 224us/step - loss: -2071.4352 - accuracy: 0.3579 - val_loss: -1453.2820 - val_accuracy: 0.3551\n",
      "Epoch 67/100\n",
      "7479/7479 [==============================] - 2s 221us/step - loss: -2163.6527 - accuracy: 0.3640 - val_loss: -1465.8569 - val_accuracy: 0.3551\n",
      "Epoch 68/100\n",
      "7479/7479 [==============================] - 2s 230us/step - loss: -2229.1688 - accuracy: 0.3654 - val_loss: -1522.4001 - val_accuracy: 0.3497\n",
      "Epoch 69/100\n",
      "7479/7479 [==============================] - 2s 227us/step - loss: -2322.1189 - accuracy: 0.3652 - val_loss: -1575.8730 - val_accuracy: 0.3439\n",
      "Epoch 70/100\n",
      "7479/7479 [==============================] - 2s 223us/step - loss: -2406.1946 - accuracy: 0.3666 - val_loss: -1628.3647 - val_accuracy: 0.3439\n",
      "Epoch 71/100\n",
      "7479/7479 [==============================] - 2s 222us/step - loss: -2471.3106 - accuracy: 0.3654 - val_loss: -1689.1687 - val_accuracy: 0.3476\n",
      "Epoch 72/100\n",
      "7479/7479 [==============================] - 2s 226us/step - loss: -2562.2149 - accuracy: 0.3654 - val_loss: -1707.3525 - val_accuracy: 0.3481\n",
      "Epoch 73/100\n",
      "7479/7479 [==============================] - 2s 225us/step - loss: -2632.7722 - accuracy: 0.3649 - val_loss: -1706.5609 - val_accuracy: 0.3439\n",
      "Epoch 74/100\n",
      "7479/7479 [==============================] - 2s 224us/step - loss: -2741.3323 - accuracy: 0.3668 - val_loss: -1804.2639 - val_accuracy: 0.3396\n",
      "Epoch 75/100\n",
      "7479/7479 [==============================] - 2s 223us/step - loss: -2831.2480 - accuracy: 0.3634 - val_loss: -1870.6711 - val_accuracy: 0.3487\n",
      "Epoch 76/100\n",
      "7479/7479 [==============================] - 2s 226us/step - loss: -2861.1627 - accuracy: 0.3642 - val_loss: -1962.7485 - val_accuracy: 0.3519\n",
      "Epoch 77/100\n",
      "7479/7479 [==============================] - 2s 213us/step - loss: -2966.5167 - accuracy: 0.3680 - val_loss: -1993.7616 - val_accuracy: 0.3487\n",
      "Epoch 78/100\n",
      "7479/7479 [==============================] - 2s 226us/step - loss: -3049.7119 - accuracy: 0.3645 - val_loss: -2044.8212 - val_accuracy: 0.3460\n",
      "Epoch 79/100\n",
      "7479/7479 [==============================] - 2s 224us/step - loss: -3188.6911 - accuracy: 0.3648 - val_loss: -2070.1439 - val_accuracy: 0.3390\n",
      "Epoch 80/100\n",
      "7479/7479 [==============================] - 2s 224us/step - loss: -3259.6545 - accuracy: 0.3660 - val_loss: -2174.8025 - val_accuracy: 0.3460\n",
      "Epoch 81/100\n",
      "7479/7479 [==============================] - 2s 223us/step - loss: -3320.5530 - accuracy: 0.3682 - val_loss: -2177.6096 - val_accuracy: 0.3433\n",
      "Epoch 82/100\n",
      "7479/7479 [==============================] - 2s 223us/step - loss: -3402.5306 - accuracy: 0.3674 - val_loss: -2260.0352 - val_accuracy: 0.3465\n",
      "Epoch 83/100\n",
      "7479/7479 [==============================] - 2s 222us/step - loss: -3534.1443 - accuracy: 0.3705 - val_loss: -2222.3459 - val_accuracy: 0.3396\n",
      "Epoch 84/100\n",
      "7479/7479 [==============================] - 2s 222us/step - loss: -3597.9555 - accuracy: 0.3665 - val_loss: -2201.3019 - val_accuracy: 0.3422\n",
      "Epoch 85/100\n",
      "7479/7479 [==============================] - 2s 224us/step - loss: -3663.2146 - accuracy: 0.3713 - val_loss: -2267.4909 - val_accuracy: 0.3428\n",
      "Epoch 86/100\n",
      "7479/7479 [==============================] - 2s 224us/step - loss: -3754.8256 - accuracy: 0.3686 - val_loss: -2349.2906 - val_accuracy: 0.3481\n",
      "Epoch 87/100\n",
      "7479/7479 [==============================] - 2s 222us/step - loss: -3839.3607 - accuracy: 0.3696 - val_loss: -2424.0462 - val_accuracy: 0.3503\n",
      "Epoch 88/100\n",
      "7479/7479 [==============================] - 2s 223us/step - loss: -3942.6904 - accuracy: 0.3708 - val_loss: -2588.5023 - val_accuracy: 0.3476\n",
      "Epoch 89/100\n",
      "7479/7479 [==============================] - 2s 224us/step - loss: -4055.3817 - accuracy: 0.3694 - val_loss: -2605.5269 - val_accuracy: 0.3497\n",
      "Epoch 90/100\n",
      "7479/7479 [==============================] - 2s 222us/step - loss: -4078.0593 - accuracy: 0.3641 - val_loss: -2651.5355 - val_accuracy: 0.3476\n",
      "Epoch 91/100\n",
      "7479/7479 [==============================] - 2s 223us/step - loss: -4169.1483 - accuracy: 0.3677 - val_loss: -2671.4820 - val_accuracy: 0.3465\n",
      "Epoch 92/100\n",
      "7479/7479 [==============================] - 2s 224us/step - loss: -4307.3282 - accuracy: 0.3658 - val_loss: -2663.3700 - val_accuracy: 0.3492\n",
      "Epoch 93/100\n",
      "7479/7479 [==============================] - 2s 226us/step - loss: -4419.0394 - accuracy: 0.3688 - val_loss: -2766.8238 - val_accuracy: 0.3455\n",
      "Epoch 94/100\n",
      "7479/7479 [==============================] - 2s 226us/step - loss: -4534.5421 - accuracy: 0.3660 - val_loss: -2751.7157 - val_accuracy: 0.3465\n",
      "Epoch 95/100\n",
      "7479/7479 [==============================] - 2s 229us/step - loss: -4615.2019 - accuracy: 0.3718 - val_loss: -2785.9245 - val_accuracy: 0.3412\n",
      "Epoch 96/100\n",
      "7479/7479 [==============================] - 2s 231us/step - loss: -4691.9462 - accuracy: 0.3689 - val_loss: -2867.0366 - val_accuracy: 0.3471\n",
      "Epoch 97/100\n",
      "7479/7479 [==============================] - 2s 229us/step - loss: -4836.8448 - accuracy: 0.3746 - val_loss: -2925.6182 - val_accuracy: 0.3433\n",
      "Epoch 98/100\n",
      "7479/7479 [==============================] - 2s 225us/step - loss: -5028.2432 - accuracy: 0.3717 - val_loss: -3003.1834 - val_accuracy: 0.3439\n",
      "Epoch 99/100\n",
      "7479/7479 [==============================] - 2s 225us/step - loss: -5103.0575 - accuracy: 0.3721 - val_loss: -3094.2408 - val_accuracy: 0.3433\n",
      "Epoch 100/100\n",
      "7479/7479 [==============================] - 2s 226us/step - loss: -5163.0423 - accuracy: 0.3714 - val_loss: -3109.6885 - val_accuracy: 0.3401\n",
      "{'val_loss': [-0.06447492988859826, -0.26220497682212507, -1.4899458987986978, -3.999740381929326, -7.195660510165169, -12.671932940495843, -18.241081561634246, -26.602997348907795, -35.09319242436618, -44.117762843555305, -52.690626603396815, -65.94389608900815, -74.80899420547932, -87.73542404684791, -100.05828115391859, -110.94225709068584, -125.40514674671194, -141.28589291113582, -154.52535916904714, -173.5320022756403, -188.0447986011199, -202.41572312237744, -222.6937073692281, -239.77469271899545, -261.1049001943619, -282.0424916680484, -296.4489732324121, -318.47816550922903, -350.6921000098162, -371.94671509482646, -398.9654796926733, -410.2994496758609, -447.9151854234583, -462.21522339907557, -488.529370731211, -505.0451126455623, -527.5148135506533, -550.9892582000896, -582.8898905993783, -605.2748405640139, -610.7513113990824, -646.5797858620709, -688.039411758994, -708.5403337529636, -759.9525067487502, -784.1237197304791, -819.8860165397114, -852.7975298631637, -869.6037720664938, -913.4346375082904, -943.4402226126767, -1008.7497140583507, -1021.7005505077342, -1061.773336318725, -1135.4167566044446, -1134.8481821580367, -1157.7454590210941, -1198.8290532872002, -1222.8993968249642, -1229.0184783323564, -1292.5318617183257, -1380.9254729862519, -1383.619910031079, -1410.4415846839945, -1449.0710434633143, -1453.281984502619, -1465.8569007098356, -1522.4000699252367, -1575.8729940812218, -1628.3646665715917, -1689.1686997031145, -1707.3524524260333, -1706.5608964195862, -1804.2639060198942, -1870.6711053695271, -1962.7484812609014, -1993.7616200370585, -2044.821249222373, -2070.1439029265216, -2174.8025112050104, -2177.6095816872335, -2260.035182116503, -2222.3458704412938, -2201.301945813837, -2267.490922774861, -2349.2905867367504, -2424.046176686006, -2588.502308034642, -2605.526893860516, -2651.535498879173, -2671.48197073095, -2663.370027511515, -2766.8238414009625, -2751.7157425497944, -2785.9245102826285, -2867.036593840084, -2925.618236725343, -3003.183415214008, -3094.240786429395, -3109.6885466091135], 'val_accuracy': [0.33529412746429443, 0.33529412746429443, 0.33529412746429443, 0.33529412746429443, 0.33529412746429443, 0.33529412746429443, 0.33529412746429443, 0.33529412746429443, 0.33529412746429443, 0.33529412746429443, 0.33529412746429443, 0.33529412746429443, 0.33582887053489685, 0.33636364340782166, 0.33582887053489685, 0.33582887053489685, 0.3368983864784241, 0.33582887053489685, 0.33529412746429443, 0.3385026752948761, 0.33529412746429443, 0.33582887053489685, 0.33636364340782166, 0.3379679024219513, 0.3401069641113281, 0.3374331593513489, 0.3449198007583618, 0.3486630916595459, 0.344385027885437, 0.3379679024219513, 0.34117648005485535, 0.3368983864784241, 0.3368983864784241, 0.3374331593513489, 0.3368983864784241, 0.3374331593513489, 0.3342246115207672, 0.3368983864784241, 0.34224599599838257, 0.34171122312545776, 0.34705883264541626, 0.3390374183654785, 0.34064170718193054, 0.3401069641113281, 0.3395721912384033, 0.3374331593513489, 0.34117648005485535, 0.34064170718193054, 0.342780739068985, 0.3395721912384033, 0.3433155119419098, 0.34224599599838257, 0.35080215334892273, 0.3475935757160187, 0.3395721912384033, 0.34117648005485535, 0.34545454382896423, 0.3481283485889435, 0.3475935757160187, 0.3438502550125122, 0.344385027885437, 0.3438502550125122, 0.34705883264541626, 0.3502673804759979, 0.3491978645324707, 0.3550802171230316, 0.3550802171230316, 0.3497326076030731, 0.3438502550125122, 0.3438502550125122, 0.3475935757160187, 0.3481283485889435, 0.3438502550125122, 0.3395721912384033, 0.3486630916595459, 0.35187166929244995, 0.3486630916595459, 0.34598931670188904, 0.3390374183654785, 0.34598931670188904, 0.3433155119419098, 0.34652405977249146, 0.3395721912384033, 0.34224599599838257, 0.342780739068985, 0.3481283485889435, 0.3502673804759979, 0.3475935757160187, 0.3497326076030731, 0.3475935757160187, 0.34652405977249146, 0.3491978645324707, 0.34545454382896423, 0.34652405977249146, 0.34117648005485535, 0.34705883264541626, 0.3433155119419098, 0.3438502550125122, 0.3433155119419098, 0.3401069641113281], 'loss': [0.13027612761712684, 0.022846350184840894, -0.639162996497196, -2.2251936268220294, -4.581853370529019, -8.371469003877221, -13.803619252575412, -21.04227861192619, -28.5183133759, -37.37221145011442, -47.514489961277754, -57.91174644195933, -69.1423744524142, -81.58192767521838, -97.09617232989461, -111.28336239160741, -125.94687867091291, -141.4175691278817, -154.0297621019321, -174.15482532286296, -194.04353367199647, -217.51310211128373, -238.4610690727545, -248.37599860604638, -271.0243751962868, -305.821328953572, -308.6378136509991, -333.76768797976337, -368.8770564417578, -401.42252926489203, -425.50278092135176, -458.03920585182453, -494.85680068847824, -518.2871232403203, -554.8741381854708, -585.1213499972775, -625.0190108409299, -660.3026277124125, -676.7718913807304, -721.0568114903732, -761.9542579629839, -803.7195699514274, -844.3884639761668, -894.553820343543, -925.7382995461634, -974.1550005572192, -1027.3896688063971, -1077.7008083025105, -1119.751042204213, -1179.3235415665124, -1229.0018640206545, -1227.6716454010275, -1295.5822475574635, -1372.5139052124166, -1411.671539272212, -1459.241896034865, -1525.359273437957, -1586.2731674861295, -1654.6110216353184, -1727.2114567132473, -1785.587029026734, -1815.2308933213683, -1867.9385855162523, -1961.7467031338617, -2039.0955753318765, -2071.435178654448, -2163.6526962282314, -2229.1687781243004, -2322.11892079051, -2406.19460539149, -2471.3106320704155, -2562.214881724319, -2632.7722367588763, -2741.332265660826, -2831.247994292466, -2861.162681692822, -2966.516650914859, -3049.711878366849, -3188.6911011925513, -3259.6544972022025, -3320.5530140672813, -3402.5306139172103, -3534.144316969493, -3597.9554796398666, -3663.214586459151, -3754.8255915248405, -3839.3606857501786, -3942.6903719019006, -4055.3816617431926, -4078.05932434588, -4169.148254115022, -4307.328194485738, -4419.039377882991, -4534.542076247407, -4615.2018698304555, -4691.946208082174, -4836.844764953279, -5028.243241837644, -5103.05753737928, -5163.042334666624], 'accuracy': [0.33894905, 0.3394839, 0.3394839, 0.3394839, 0.3394839, 0.3394839, 0.3394839, 0.3394839, 0.3394839, 0.3394839, 0.3394839, 0.3394839, 0.3394839, 0.3401524, 0.34255916, 0.34202433, 0.34162322, 0.34202433, 0.34095466, 0.34122208, 0.3414895, 0.34095466, 0.3417569, 0.3432277, 0.34483218, 0.346303, 0.34710523, 0.34911084, 0.34884343, 0.34964567, 0.35098276, 0.34951198, 0.34443107, 0.34643668, 0.34710523, 0.34777376, 0.34844232, 0.34723893, 0.35138386, 0.35472655, 0.35472655, 0.35445917, 0.35405803, 0.3551277, 0.35486028, 0.35419175, 0.35432544, 0.3551277, 0.35405803, 0.35566252, 0.35245353, 0.3569996, 0.35927263, 0.35806927, 0.35793555, 0.3586041, 0.35726702, 0.3553951, 0.35847038, 0.3603423, 0.36007488, 0.35913894, 0.35954005, 0.35967374, 0.3607434, 0.35793555, 0.3639524, 0.36542317, 0.36515576, 0.36662656, 0.36542317, 0.36542317, 0.36488834, 0.36676025, 0.36341757, 0.3642198, 0.36796364, 0.36448723, 0.36475465, 0.365958, 0.36823106, 0.3674288, 0.37050408, 0.36649284, 0.37130633, 0.36863217, 0.3695681, 0.3707715, 0.36943442, 0.36408612, 0.36769623, 0.3658243, 0.3687659, 0.365958, 0.37184116, 0.36889958, 0.37464902, 0.37170744, 0.37210858, 0.37144002]}\n"
     ]
    }
   ],
   "source": [
    "# Here I am buiding a Sequential Bidirectional LSTM ANN  with an input embedding layer of (2000, 128)\n",
    "# and running over 100 epocs for 50 batch size\n",
    "# parallely measuring the validation score for 20% of data.\n",
    "\n",
    "model = Sequential()\n",
    "model.add(Embedding(2000, 128))\n",
    "model.add(Bidirectional(LSTM(32, return_sequences = True)))\n",
    "model.add(GlobalMaxPool1D())\n",
    "model.add(Dense(20, activation=\"relu\"))\n",
    "# model.add(Dropout(0.05))\n",
    "model.add(Dense(1, activation=\"sigmoid\"))\n",
    "model.compile(loss='binary_crossentropy', optimizer='adam', metrics=['accuracy'])\n",
    "\n",
    "model_hist = model.fit(df_X, df_y, batch_size=50, epochs=100, validation_split=0.2)\n",
    "print(model_hist.history)"
   ]
  },
  {
   "cell_type": "code",
   "execution_count": 50,
   "metadata": {},
   "outputs": [
    {
     "data": {
      "image/png": "[encoded data removed]",
      "text/plain": [
       "<Figure size 1296x432 with 1 Axes>"
      ]
     },
     "metadata": {
      "needs_background": "light"
     },
     "output_type": "display_data"
    },
    {
     "data": {
      "image/png": "[encoded data removed]",
      "text/plain": [
       "<Figure size 1296x432 with 1 Axes>"
      ]
     },
     "metadata": {
      "needs_background": "light"
     },
     "output_type": "display_data"
    }
   ],
   "source": [
    "# here I am plotting the curves for training and testing performance based on model's history.\n",
    "# evaluating the accuracy for train and val, and loss for train and val data.\n",
    "show_learning_curve(model_hist, 'bidirectional_LSTM_model_performance')"
   ]
  },
  {
   "cell_type": "markdown",
   "metadata": {},
   "source": [
    "### NOTE: <br>Neural networks are not able to perform well on the data as the quantuty of data is very less and for a ANN to train, and I found XGBoost and MLPClassifier to perform pretty well as compared to other models, so I will be using MLPClassifier for predicting the final result for the test data.\n"
   ]
  },
  {
   "cell_type": "markdown",
   "metadata": {},
   "source": [
    "## Predicting gold_label for test data"
   ]
  },
  {
   "cell_type": "code",
   "execution_count": 51,
   "metadata": {},
   "outputs": [
    {
     "name": "stdout",
     "output_type": "stream",
     "text": [
      "[2 1 2 1 0 2 0 0 0 2 1 2 1 0 0 1 1 1 0 1 0 0 0 1 0 1 2 0 1 0 1 0 2 1 1 1 0\n",
      " 1 0 0 0 2 0 2 0 0 0 1 1 0 2 2 0 2 1 0 0 0 2 0 1 0 0 0 0 0 0 1 0 0 0 0 0 0\n",
      " 0 0 0 0 0 0 0 0 1 1 1 0 2 1 2 0 2 0 1 0 0 0 0 0 0 0 1 2 1 2 2 1 0 0 2 1 0\n",
      " 1 0 0 2 1 0 0 0 1 0 1 1 0 2 0 0 0 1 2 2 0 2 2 1 0 1 0 0 2 0 0 1 0 0 2 1 2\n",
      " 1 1 0 1 0 0 0 2 0 0 1 1 1 0 0 1 1 0 0 0 1 0 1 1 2 1 0 0 2 0 1 1 1 0 2 1 1\n",
      " 1 1 0 1 0 1 1 0 0 2 0 2 0 0 0 0 1 1 0 1 1 2 0 0 1 0 1 0 0 0 1 0 1 0 1 2 2\n",
      " 0 0 1 0 0 1 2 2 1 1 2 0 1 0 1 0 2 0 1 0 1 1 1 0 0 0 1 0 1 2 1 2 1 1 0 0 0\n",
      " 1 0 0 1 0 1 1 0 0 2 2 1 0 0 1 0 1 0 0 1 2 1 2 0 0 1 2 1 1 2 1 1 0 0 2 0 0\n",
      " 0 0 1 0 0 2 0 0 0 2 0 1 1 1 2 0 0 0 1 0 0 0 0 2 1 0 2 1 2 2 0 0 0 1 0 1 0\n",
      " 0 0 2 0 0 1 1 0 0 0 2 2 1 2 2 1 0 0 2 1 1 1 0 1 2 0 0 0 0 1 1 2 1 0 0 0 2\n",
      " 2 1 1 1 0 1 2 2 1 1 0 2 0 2 1 0 1 0 1 0 0 2 1 1 1 1 1 0 0 0 0 1 1 1 1 0 0\n",
      " 2 1 2 1 0 2 0 0 1 1 1 0 0 1 2 0 0 1 0 0 1 1 1 0 0 0 0 0 0 1 1 0 0 0 0 0 1\n",
      " 2 0 0 0 0 0 0 1 1 2 0 0 1 1 1 1 1 0 0 0 2 0 1 0 0 0 0 2 2 0 0 1 0 0 0 1 0\n",
      " 0 1 0 2 2 0 1 0 0 0 0 1]\n"
     ]
    }
   ],
   "source": [
    "# Here I am predicting the output for the test dataset using the Multilayer perceptron model\n",
    "test_prediction = mpl_model.predict(df_test_scaled)\n",
    "print(test_prediction)"
   ]
  },
  {
   "cell_type": "code",
   "execution_count": 52,
   "metadata": {},
   "outputs": [
    {
     "data": {
      "text/plain": [
       "array(['neutral', 'entailment', 'neutral', 'entailment', 'contradiction',\n",
       "       'neutral', 'contradiction', 'contradiction', 'contradiction',\n",
       "       'neutral', 'entailment', 'neutral', 'entailment', 'contradiction',\n",
       "       'contradiction', 'entailment', 'entailment', 'entailment',\n",
       "       'contradiction', 'entailment', 'contradiction', 'contradiction',\n",
       "       'contradiction', 'entailment', 'contradiction', 'entailment',\n",
       "       'neutral', 'contradiction', 'entailment', 'contradiction',\n",
       "       'entailment', 'contradiction', 'neutral', 'entailment',\n",
       "       'entailment', 'entailment', 'contradiction', 'entailment',\n",
       "       'contradiction', 'contradiction', 'contradiction', 'neutral',\n",
       "       'contradiction', 'neutral', 'contradiction', 'contradiction',\n",
       "       'contradiction', 'entailment', 'entailment', 'contradiction',\n",
       "       'neutral', 'neutral', 'contradiction', 'neutral', 'entailment',\n",
       "       'contradiction', 'contradiction', 'contradiction', 'neutral',\n",
       "       'contradiction', 'entailment', 'contradiction', 'contradiction',\n",
       "       'contradiction', 'contradiction', 'contradiction', 'contradiction',\n",
       "       'entailment', 'contradiction', 'contradiction', 'contradiction',\n",
       "       'contradiction', 'contradiction', 'contradiction', 'contradiction',\n",
       "       'contradiction', 'contradiction', 'contradiction', 'contradiction',\n",
       "       'contradiction', 'contradiction', 'contradiction', 'entailment',\n",
       "       'entailment', 'entailment', 'contradiction', 'neutral',\n",
       "       'entailment', 'neutral', 'contradiction', 'neutral',\n",
       "       'contradiction', 'entailment', 'contradiction', 'contradiction',\n",
       "       'contradiction', 'contradiction', 'contradiction', 'contradiction',\n",
       "       'contradiction', 'entailment', 'neutral', 'entailment', 'neutral',\n",
       "       'neutral', 'entailment', 'contradiction', 'contradiction',\n",
       "       'neutral', 'entailment', 'contradiction', 'entailment',\n",
       "       'contradiction', 'contradiction', 'neutral', 'entailment',\n",
       "       'contradiction', 'contradiction', 'contradiction', 'entailment',\n",
       "       'contradiction', 'entailment', 'entailment', 'contradiction',\n",
       "       'neutral', 'contradiction', 'contradiction', 'contradiction',\n",
       "       'entailment', 'neutral', 'neutral', 'contradiction', 'neutral',\n",
       "       'neutral', 'entailment', 'contradiction', 'entailment',\n",
       "       'contradiction', 'contradiction', 'neutral', 'contradiction',\n",
       "       'contradiction', 'entailment', 'contradiction', 'contradiction',\n",
       "       'neutral', 'entailment', 'neutral', 'entailment', 'entailment',\n",
       "       'contradiction', 'entailment', 'contradiction', 'contradiction',\n",
       "       'contradiction', 'neutral', 'contradiction', 'contradiction',\n",
       "       'entailment', 'entailment', 'entailment', 'contradiction',\n",
       "       'contradiction', 'entailment', 'entailment', 'contradiction',\n",
       "       'contradiction', 'contradiction', 'entailment', 'contradiction',\n",
       "       'entailment', 'entailment', 'neutral', 'entailment',\n",
       "       'contradiction', 'contradiction', 'neutral', 'contradiction',\n",
       "       'entailment', 'entailment', 'entailment', 'contradiction',\n",
       "       'neutral', 'entailment', 'entailment', 'entailment', 'entailment',\n",
       "       'contradiction', 'entailment', 'contradiction', 'entailment',\n",
       "       'entailment', 'contradiction', 'contradiction', 'neutral',\n",
       "       'contradiction', 'neutral', 'contradiction', 'contradiction',\n",
       "       'contradiction', 'contradiction', 'entailment', 'entailment',\n",
       "       'contradiction', 'entailment', 'entailment', 'neutral',\n",
       "       'contradiction', 'contradiction', 'entailment', 'contradiction',\n",
       "       'entailment', 'contradiction', 'contradiction', 'contradiction',\n",
       "       'entailment', 'contradiction', 'entailment', 'contradiction',\n",
       "       'entailment', 'neutral', 'neutral', 'contradiction',\n",
       "       'contradiction', 'entailment', 'contradiction', 'contradiction',\n",
       "       'entailment', 'neutral', 'neutral', 'entailment', 'entailment',\n",
       "       'neutral', 'contradiction', 'entailment', 'contradiction',\n",
       "       'entailment', 'contradiction', 'neutral', 'contradiction',\n",
       "       'entailment', 'contradiction', 'entailment', 'entailment',\n",
       "       'entailment', 'contradiction', 'contradiction', 'contradiction',\n",
       "       'entailment', 'contradiction', 'entailment', 'neutral',\n",
       "       'entailment', 'neutral', 'entailment', 'entailment',\n",
       "       'contradiction', 'contradiction', 'contradiction', 'entailment',\n",
       "       'contradiction', 'contradiction', 'entailment', 'contradiction',\n",
       "       'entailment', 'entailment', 'contradiction', 'contradiction',\n",
       "       'neutral', 'neutral', 'entailment', 'contradiction',\n",
       "       'contradiction', 'entailment', 'contradiction', 'entailment',\n",
       "       'contradiction', 'contradiction', 'entailment', 'neutral',\n",
       "       'entailment', 'neutral', 'contradiction', 'contradiction',\n",
       "       'entailment', 'neutral', 'entailment', 'entailment', 'neutral',\n",
       "       'entailment', 'entailment', 'contradiction', 'contradiction',\n",
       "       'neutral', 'contradiction', 'contradiction', 'contradiction',\n",
       "       'contradiction', 'entailment', 'contradiction', 'contradiction',\n",
       "       'neutral', 'contradiction', 'contradiction', 'contradiction',\n",
       "       'neutral', 'contradiction', 'entailment', 'entailment',\n",
       "       'entailment', 'neutral', 'contradiction', 'contradiction',\n",
       "       'contradiction', 'entailment', 'contradiction', 'contradiction',\n",
       "       'contradiction', 'contradiction', 'neutral', 'entailment',\n",
       "       'contradiction', 'neutral', 'entailment', 'neutral', 'neutral',\n",
       "       'contradiction', 'contradiction', 'contradiction', 'entailment',\n",
       "       'contradiction', 'entailment', 'contradiction', 'contradiction',\n",
       "       'contradiction', 'neutral', 'contradiction', 'contradiction',\n",
       "       'entailment', 'entailment', 'contradiction', 'contradiction',\n",
       "       'contradiction', 'neutral', 'neutral', 'entailment', 'neutral',\n",
       "       'neutral', 'entailment', 'contradiction', 'contradiction',\n",
       "       'neutral', 'entailment', 'entailment', 'entailment',\n",
       "       'contradiction', 'entailment', 'neutral', 'contradiction',\n",
       "       'contradiction', 'contradiction', 'contradiction', 'entailment',\n",
       "       'entailment', 'neutral', 'entailment', 'contradiction',\n",
       "       'contradiction', 'contradiction', 'neutral', 'neutral',\n",
       "       'entailment', 'entailment', 'entailment', 'contradiction',\n",
       "       'entailment', 'neutral', 'neutral', 'entailment', 'entailment',\n",
       "       'contradiction', 'neutral', 'contradiction', 'neutral',\n",
       "       'entailment', 'contradiction', 'entailment', 'contradiction',\n",
       "       'entailment', 'contradiction', 'contradiction', 'neutral',\n",
       "       'entailment', 'entailment', 'entailment', 'entailment',\n",
       "       'entailment', 'contradiction', 'contradiction', 'contradiction',\n",
       "       'contradiction', 'entailment', 'entailment', 'entailment',\n",
       "       'entailment', 'contradiction', 'contradiction', 'neutral',\n",
       "       'entailment', 'neutral', 'entailment', 'contradiction', 'neutral',\n",
       "       'contradiction', 'contradiction', 'entailment', 'entailment',\n",
       "       'entailment', 'contradiction', 'contradiction', 'entailment',\n",
       "       'neutral', 'contradiction', 'contradiction', 'entailment',\n",
       "       'contradiction', 'contradiction', 'entailment', 'entailment',\n",
       "       'entailment', 'contradiction', 'contradiction', 'contradiction',\n",
       "       'contradiction', 'contradiction', 'contradiction', 'entailment',\n",
       "       'entailment', 'contradiction', 'contradiction', 'contradiction',\n",
       "       'contradiction', 'contradiction', 'entailment', 'neutral',\n",
       "       'contradiction', 'contradiction', 'contradiction', 'contradiction',\n",
       "       'contradiction', 'contradiction', 'entailment', 'entailment',\n",
       "       'neutral', 'contradiction', 'contradiction', 'entailment',\n",
       "       'entailment', 'entailment', 'entailment', 'entailment',\n",
       "       'contradiction', 'contradiction', 'contradiction', 'neutral',\n",
       "       'contradiction', 'entailment', 'contradiction', 'contradiction',\n",
       "       'contradiction', 'contradiction', 'neutral', 'neutral',\n",
       "       'contradiction', 'contradiction', 'entailment', 'contradiction',\n",
       "       'contradiction', 'contradiction', 'entailment', 'contradiction',\n",
       "       'contradiction', 'entailment', 'contradiction', 'neutral',\n",
       "       'neutral', 'contradiction', 'entailment', 'contradiction',\n",
       "       'contradiction', 'contradiction', 'contradiction', 'entailment'],\n",
       "      dtype=object)"
      ]
     },
     "execution_count": 52,
     "metadata": {},
     "output_type": "execute_result"
    }
   ],
   "source": [
    "inv_encoded_predictions = encoder.inverse_transform(test_prediction)\n",
    "inv_encoded_predictions"
   ]
  },
  {
   "cell_type": "markdown",
   "metadata": {},
   "source": [
    "## Building the prediction csv file"
   ]
  },
  {
   "cell_type": "code",
   "execution_count": 53,
   "metadata": {},
   "outputs": [],
   "source": [
    "# Here I am converting the predicted values to the final dataset which is to be submitted.\n",
    "output = pd.DataFrame( data={\"gold_label\":inv_encoded_predictions} )\n",
    "output.to_csv( \"predicted.csv\", index=False, quoting=3)"
   ]
  },
  {
   "cell_type": "markdown",
   "metadata": {},
   "source": [
    "<hr><hr>"
   ]
  },
  {
   "cell_type": "markdown",
   "metadata": {},
   "source": [
    "### Future Scope of this Project\n",
    "* Since the dataset was very small, training a Neural network was not a good idea so I choose to move ahead with ML algorithms. \n",
    "* So, working on a large dataset can improve the learning.\n",
    "* Advanced NLP techniques can be implemented to find the semantic relationship between both the sentences to get a better result.\n",
    "* Due to lack of time I decided to follow this approach but with various iterations during the development, model's performance can increase significantly.\n",
    "* `Data Cleaning` was done signifantly well but can be done using other approaches.\n",
    "* `Feature engineering` is one important part which require good knowledge of NLP which can be worked upon in future.\n",
    "* Dimensionality reduction based on experimentation on using `PCA` or `t-SNE` can be perfromed to optimize model performance and remove useless features.\n",
    "* `Hypothesis testing` can be done in making useful decissions about the feature, whether they contribute in predicting right `gold_label` or not.\n",
    "* `Word ebedding` can be implemented to get a better semantic relationship between words.\n",
    "* Working with more better Neural Networks will be a better choice for this kind of problem, although `bidirectional LSTM` should perform well with large dataset.\n",
    "* Finally once we get a good model performance over the data, we can implement hyperparameter tuning to tune those small knobs in the `bidirectional LSTM` model to extract the best performance out of it.\n",
    "* for any suggestions contact me at [paras.varshney97@gmail.com](paras.varshney97@gmail.com)"
   ]
  },
  {
   "cell_type": "markdown",
   "metadata": {},
   "source": [
    "### Assignment By:\n",
    "#### Paras Varshney\n",
    "* https://www.linkedin.com/in/pv009\n",
    "* https://github.com/paras009\n",
    "* https://towardsdatascience.com/@pv009"
   ]
  },
  {
   "cell_type": "markdown",
   "metadata": {},
   "source": [
    "#### end "
   ]
  }
 ],
 "metadata": {
  "kernelspec": {
   "display_name": "Python 3",
   "language": "python",
   "name": "python3"
  },
  "language_info": {
   "codemirror_mode": {
    "name": "ipython",
    "version": 3
   },
   "file_extension": ".py",
   "mimetype": "text/x-python",
   "name": "python",
   "nbconvert_exporter": "python",
   "pygments_lexer": "ipython3",
   "version": "3.7.3"
  }
 },
 "nbformat": 4,
 "nbformat_minor": 2
}
